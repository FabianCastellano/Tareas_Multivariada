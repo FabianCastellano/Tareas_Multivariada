{
 "cells": [
  {
   "cell_type": "code",
   "execution_count": 1,
   "id": "c359f64b-1163-4e75-ab1c-a96eb3c446a9",
   "metadata": {},
   "outputs": [],
   "source": [
    "import pandas as pd\n",
    "import numpy as np\n",
    "import altair as alt "
   ]
  },
  {
   "cell_type": "code",
   "execution_count": 2,
   "id": "4e92eb1e-a962-4691-8df2-02378a75f1e8",
   "metadata": {},
   "outputs": [],
   "source": [
    "import sympy as sp"
   ]
  },
  {
   "cell_type": "code",
   "execution_count": 9,
   "id": "e128349f-6efa-4d68-92e9-fdc4b64a5896",
   "metadata": {},
   "outputs": [
    {
     "data": {
      "text/latex": [
       "$\\displaystyle \\left[\\begin{matrix}1 & p_{2} & p_{3} & p_{4}\\\\p_{2} & 1 & p_{4} & p_{3}\\\\p_{3} & p_{4} & 1 & p_{2}\\\\p_{4} & p_{3} & p_{2} & 1\\end{matrix}\\right]$"
      ],
      "text/plain": [
       "Matrix([\n",
       "[ 1, p2, p3, p4],\n",
       "[p2,  1, p4, p3],\n",
       "[p3, p4,  1, p2],\n",
       "[p4, p3, p2,  1]])"
      ]
     },
     "execution_count": 9,
     "metadata": {},
     "output_type": "execute_result"
    }
   ],
   "source": [
    "p2 = sp.symbols('p2')\n",
    "p3 = sp.symbols('p3')\n",
    "p4 = sp.symbols('p4')\n",
    "\n",
    "sigma = sp.Matrix([[1,p2,p3,p4],[p2,1,p4,p3],[p3,p4,1,p2],[p4,p3,p2,1]]).T\n",
    "sigma"
   ]
  },
  {
   "cell_type": "code",
   "execution_count": 10,
   "id": "f686f8d3-58a1-44da-a85c-a3ceeb68b6ed",
   "metadata": {},
   "outputs": [
    {
     "data": {
      "text/plain": [
       "[(-p2 - p3 + p4 + 1,\n",
       "  1,\n",
       "  [Matrix([\n",
       "   [ 1],\n",
       "   [-1],\n",
       "   [-1],\n",
       "   [ 1]])]),\n",
       " (-p2 + p3 - p4 + 1,\n",
       "  1,\n",
       "  [Matrix([\n",
       "   [-1],\n",
       "   [ 1],\n",
       "   [-1],\n",
       "   [ 1]])]),\n",
       " (p2 - p3 - p4 + 1,\n",
       "  1,\n",
       "  [Matrix([\n",
       "   [-1],\n",
       "   [-1],\n",
       "   [ 1],\n",
       "   [ 1]])]),\n",
       " (p2 + p3 + p4 + 1,\n",
       "  1,\n",
       "  [Matrix([\n",
       "   [1],\n",
       "   [1],\n",
       "   [1],\n",
       "   [1]])])]"
      ]
     },
     "execution_count": 10,
     "metadata": {},
     "output_type": "execute_result"
    }
   ],
   "source": [
    "sigma.eigenvects()"
   ]
  }
 ],
 "metadata": {
  "kernelspec": {
   "display_name": "Python 3 (ipykernel)",
   "language": "python",
   "name": "python3"
  },
  "language_info": {
   "codemirror_mode": {
    "name": "ipython",
    "version": 3
   },
   "file_extension": ".py",
   "mimetype": "text/x-python",
   "name": "python",
   "nbconvert_exporter": "python",
   "pygments_lexer": "ipython3",
   "version": "3.7.10"
  }
 },
 "nbformat": 4,
 "nbformat_minor": 5
}
