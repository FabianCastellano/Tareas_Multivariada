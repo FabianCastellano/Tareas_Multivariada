{
 "cells": [
  {
   "cell_type": "code",
   "execution_count": 1,
   "id": "63d02aff-9b0c-4927-9e9a-7ff7c01e2c4a",
   "metadata": {},
   "outputs": [],
   "source": [
    "import pandas as pd\n",
    "import numpy as np\n",
    "import altair as alt"
   ]
  },
  {
   "cell_type": "markdown",
   "id": "53c42d85-bf08-4496-8d86-50bfe178e365",
   "metadata": {},
   "source": [
    "## 1"
   ]
  },
  {
   "cell_type": "code",
   "execution_count": 66,
   "id": "5c8d1a01-7d0b-49f2-9045-41f454e0dba0",
   "metadata": {},
   "outputs": [
    {
     "data": {
      "text/html": [
       "<div>\n",
       "<style scoped>\n",
       "    .dataframe tbody tr th:only-of-type {\n",
       "        vertical-align: middle;\n",
       "    }\n",
       "\n",
       "    .dataframe tbody tr th {\n",
       "        vertical-align: top;\n",
       "    }\n",
       "\n",
       "    .dataframe thead th {\n",
       "        text-align: right;\n",
       "    }\n",
       "</style>\n",
       "<table border=\"1\" class=\"dataframe\">\n",
       "  <thead>\n",
       "    <tr style=\"text-align: right;\">\n",
       "      <th></th>\n",
       "      <th>gpa</th>\n",
       "      <th>gmat</th>\n",
       "      <th>pi</th>\n",
       "    </tr>\n",
       "  </thead>\n",
       "  <tbody>\n",
       "    <tr>\n",
       "      <th>0</th>\n",
       "      <td>2.96</td>\n",
       "      <td>596</td>\n",
       "      <td>1</td>\n",
       "    </tr>\n",
       "    <tr>\n",
       "      <th>1</th>\n",
       "      <td>3.14</td>\n",
       "      <td>473</td>\n",
       "      <td>1</td>\n",
       "    </tr>\n",
       "    <tr>\n",
       "      <th>2</th>\n",
       "      <td>3.22</td>\n",
       "      <td>482</td>\n",
       "      <td>1</td>\n",
       "    </tr>\n",
       "    <tr>\n",
       "      <th>3</th>\n",
       "      <td>3.29</td>\n",
       "      <td>527</td>\n",
       "      <td>1</td>\n",
       "    </tr>\n",
       "    <tr>\n",
       "      <th>4</th>\n",
       "      <td>3.69</td>\n",
       "      <td>505</td>\n",
       "      <td>1</td>\n",
       "    </tr>\n",
       "  </tbody>\n",
       "</table>\n",
       "</div>"
      ],
      "text/plain": [
       "    gpa  gmat  pi\n",
       "0  2.96   596   1\n",
       "1  3.14   473   1\n",
       "2  3.22   482   1\n",
       "3  3.29   527   1\n",
       "4  3.69   505   1"
      ]
     },
     "execution_count": 66,
     "metadata": {},
     "output_type": "execute_result"
    }
   ],
   "source": [
    "gsb = pd.read_csv('./data/adm_GSB.csv').drop('ap_n', axis=1)\n",
    "gsb.head()"
   ]
  },
  {
   "cell_type": "code",
   "execution_count": 67,
   "id": "873b9e7d-29fa-4df1-ba6c-856bf653811b",
   "metadata": {},
   "outputs": [
    {
     "data": {
      "text/plain": [
       "Index(['gpa', 'gmat', 'pi'], dtype='object')"
      ]
     },
     "execution_count": 67,
     "metadata": {},
     "output_type": "execute_result"
    }
   ],
   "source": [
    "gsb.columns"
   ]
  },
  {
   "cell_type": "code",
   "execution_count": 76,
   "id": "a32de4cb-9db5-4583-bd5d-893e7ce086cb",
   "metadata": {},
   "outputs": [
    {
     "data": {
      "text/plain": [
       "array([[  3.21],\n",
       "       [497.  ]])"
      ]
     },
     "execution_count": 76,
     "metadata": {},
     "output_type": "execute_result"
    }
   ],
   "source": [
    "np.array([3.21,497]).reshape(-1, 1)"
   ]
  },
  {
   "cell_type": "code",
   "execution_count": 80,
   "id": "57fa268a-8e8e-4080-a4b9-b06bacab252b",
   "metadata": {},
   "outputs": [
    {
     "data": {
      "text/plain": [
       "array([  2.96, 596.  ])"
      ]
     },
     "execution_count": 80,
     "metadata": {},
     "output_type": "execute_result"
    }
   ],
   "source": [
    "np.array(X.iloc[0])"
   ]
  },
  {
   "cell_type": "code",
   "execution_count": 83,
   "id": "e35f3fce-f1c6-494e-94f9-b2b79e5ae09c",
   "metadata": {},
   "outputs": [
    {
     "data": {
      "text/plain": [
       "array([1], dtype=int64)"
      ]
     },
     "execution_count": 83,
     "metadata": {},
     "output_type": "execute_result"
    }
   ],
   "source": [
    "from sklearn.naive_bayes import GaussianNB \n",
    "X = gsb[['gpa','gmat']] \n",
    "y = gsb.pi\n",
    "gnb = GaussianNB()\n",
    "gnb.fit(X, y)\n",
    "gnb.predict(np.array([3.21, 497]).reshape(1, -1))"
   ]
  },
  {
   "cell_type": "code",
   "execution_count": 84,
   "id": "f7ed567e-6e73-4aa2-8f07-25d582c39170",
   "metadata": {},
   "outputs": [
    {
     "data": {
      "text/plain": [
       "array([1], dtype=int64)"
      ]
     },
     "execution_count": 84,
     "metadata": {},
     "output_type": "execute_result"
    }
   ],
   "source": [
    "from sklearn.linear_model import LogisticRegression\n",
    "X = gsb[['gpa','gmat']] \n",
    "y = gsb.pi\n",
    "clf  = LogisticRegression(random_state=0).fit(X, y)\n",
    "clf.fit(X, y)\n",
    "clf.predict(np.array([3.21, 497]).reshape(1, -1))"
   ]
  },
  {
   "cell_type": "markdown",
   "id": "55110fb7-7aa5-4537-8b29-90c7430fb593",
   "metadata": {},
   "source": [
    "## 4"
   ]
  },
  {
   "cell_type": "code",
   "execution_count": 46,
   "id": "36dd663d-e71f-4674-abda-0acd9a681a45",
   "metadata": {},
   "outputs": [],
   "source": [
    "import sympy as sp"
   ]
  },
  {
   "cell_type": "code",
   "execution_count": 47,
   "id": "f363d11d-4686-46fb-af37-5d80fd55e45d",
   "metadata": {},
   "outputs": [
    {
     "data": {
      "text/latex": [
       "$\\displaystyle \\left[\\begin{matrix}1 & p_{2} & p_{3} & p_{4}\\\\p_{2} & 1 & p_{4} & p_{3}\\\\p_{3} & p_{4} & 1 & p_{2}\\\\p_{4} & p_{3} & p_{2} & 1\\end{matrix}\\right]$"
      ],
      "text/plain": [
       "Matrix([\n",
       "[ 1, p2, p3, p4],\n",
       "[p2,  1, p4, p3],\n",
       "[p3, p4,  1, p2],\n",
       "[p4, p3, p2,  1]])"
      ]
     },
     "execution_count": 47,
     "metadata": {},
     "output_type": "execute_result"
    }
   ],
   "source": [
    "p2 = sp.symbols('p2')\n",
    "p3 = sp.symbols('p3')\n",
    "p4 = sp.symbols('p4')\n",
    "\n",
    "sigma = sp.Matrix([[1,p2,p3,p4],[p2,1,p4,p3],[p3,p4,1,p2],[p4,p3,p2,1]]).T\n",
    "sigma"
   ]
  },
  {
   "cell_type": "code",
   "execution_count": 48,
   "id": "c3c8326a-14a9-4995-8254-8fd428712a6f",
   "metadata": {},
   "outputs": [
    {
     "data": {
      "text/plain": [
       "[(-p2 - p3 + p4 + 1,\n",
       "  1,\n",
       "  [Matrix([\n",
       "   [ 1],\n",
       "   [-1],\n",
       "   [-1],\n",
       "   [ 1]])]),\n",
       " (-p2 + p3 - p4 + 1,\n",
       "  1,\n",
       "  [Matrix([\n",
       "   [-1],\n",
       "   [ 1],\n",
       "   [-1],\n",
       "   [ 1]])]),\n",
       " (p2 - p3 - p4 + 1,\n",
       "  1,\n",
       "  [Matrix([\n",
       "   [-1],\n",
       "   [-1],\n",
       "   [ 1],\n",
       "   [ 1]])]),\n",
       " (p2 + p3 + p4 + 1,\n",
       "  1,\n",
       "  [Matrix([\n",
       "   [1],\n",
       "   [1],\n",
       "   [1],\n",
       "   [1]])])]"
      ]
     },
     "execution_count": 48,
     "metadata": {},
     "output_type": "execute_result"
    }
   ],
   "source": [
    "sigma.eigenvects()"
   ]
  },
  {
   "cell_type": "markdown",
   "id": "35c8f24e-060b-48a0-bd4b-9b8d2298cde3",
   "metadata": {},
   "source": [
    "## 5\n"
   ]
  },
  {
   "cell_type": "code",
   "execution_count": 40,
   "id": "73b80eee-5c95-44f8-a0ce-2715c9e86e05",
   "metadata": {},
   "outputs": [
    {
     "data": {
      "text/html": [
       "<div>\n",
       "<style scoped>\n",
       "    .dataframe tbody tr th:only-of-type {\n",
       "        vertical-align: middle;\n",
       "    }\n",
       "\n",
       "    .dataframe tbody tr th {\n",
       "        vertical-align: top;\n",
       "    }\n",
       "\n",
       "    .dataframe thead th {\n",
       "        text-align: right;\n",
       "    }\n",
       "</style>\n",
       "<table border=\"1\" class=\"dataframe\">\n",
       "  <thead>\n",
       "    <tr style=\"text-align: right;\">\n",
       "      <th></th>\n",
       "      <th>a</th>\n",
       "      <th>b</th>\n",
       "      <th>c</th>\n",
       "      <th>d</th>\n",
       "    </tr>\n",
       "  </thead>\n",
       "  <tbody>\n",
       "    <tr>\n",
       "      <th>0</th>\n",
       "      <td>47.8</td>\n",
       "      <td>48.8</td>\n",
       "      <td>49.0</td>\n",
       "      <td>49.7</td>\n",
       "    </tr>\n",
       "    <tr>\n",
       "      <th>1</th>\n",
       "      <td>46.4</td>\n",
       "      <td>47.3</td>\n",
       "      <td>47.7</td>\n",
       "      <td>48.4</td>\n",
       "    </tr>\n",
       "    <tr>\n",
       "      <th>2</th>\n",
       "      <td>46.3</td>\n",
       "      <td>46.8</td>\n",
       "      <td>47.8</td>\n",
       "      <td>48.5</td>\n",
       "    </tr>\n",
       "    <tr>\n",
       "      <th>3</th>\n",
       "      <td>45.1</td>\n",
       "      <td>45.3</td>\n",
       "      <td>46.1</td>\n",
       "      <td>47.2</td>\n",
       "    </tr>\n",
       "    <tr>\n",
       "      <th>4</th>\n",
       "      <td>47.6</td>\n",
       "      <td>48.5</td>\n",
       "      <td>48.9</td>\n",
       "      <td>49.3</td>\n",
       "    </tr>\n",
       "    <tr>\n",
       "      <th>5</th>\n",
       "      <td>52.5</td>\n",
       "      <td>53.2</td>\n",
       "      <td>53.3</td>\n",
       "      <td>53.7</td>\n",
       "    </tr>\n",
       "    <tr>\n",
       "      <th>6</th>\n",
       "      <td>51.2</td>\n",
       "      <td>53.0</td>\n",
       "      <td>54.3</td>\n",
       "      <td>54.4</td>\n",
       "    </tr>\n",
       "    <tr>\n",
       "      <th>7</th>\n",
       "      <td>49.8</td>\n",
       "      <td>50.0</td>\n",
       "      <td>50.3</td>\n",
       "      <td>52.7</td>\n",
       "    </tr>\n",
       "    <tr>\n",
       "      <th>8</th>\n",
       "      <td>48.1</td>\n",
       "      <td>50.8</td>\n",
       "      <td>52.3</td>\n",
       "      <td>54.4</td>\n",
       "    </tr>\n",
       "    <tr>\n",
       "      <th>9</th>\n",
       "      <td>45.0</td>\n",
       "      <td>47.0</td>\n",
       "      <td>47.3</td>\n",
       "      <td>48.3</td>\n",
       "    </tr>\n",
       "    <tr>\n",
       "      <th>10</th>\n",
       "      <td>51.2</td>\n",
       "      <td>51.4</td>\n",
       "      <td>51.6</td>\n",
       "      <td>51.9</td>\n",
       "    </tr>\n",
       "    <tr>\n",
       "      <th>11</th>\n",
       "      <td>48.5</td>\n",
       "      <td>49.2</td>\n",
       "      <td>53.0</td>\n",
       "      <td>55.5</td>\n",
       "    </tr>\n",
       "    <tr>\n",
       "      <th>12</th>\n",
       "      <td>52.1</td>\n",
       "      <td>52.8</td>\n",
       "      <td>53.7</td>\n",
       "      <td>55.0</td>\n",
       "    </tr>\n",
       "    <tr>\n",
       "      <th>13</th>\n",
       "      <td>48.2</td>\n",
       "      <td>48.9</td>\n",
       "      <td>49.3</td>\n",
       "      <td>49.8</td>\n",
       "    </tr>\n",
       "    <tr>\n",
       "      <th>14</th>\n",
       "      <td>49.6</td>\n",
       "      <td>50.4</td>\n",
       "      <td>51.2</td>\n",
       "      <td>51.8</td>\n",
       "    </tr>\n",
       "    <tr>\n",
       "      <th>15</th>\n",
       "      <td>50.7</td>\n",
       "      <td>51.7</td>\n",
       "      <td>52.7</td>\n",
       "      <td>53.3</td>\n",
       "    </tr>\n",
       "    <tr>\n",
       "      <th>16</th>\n",
       "      <td>47.2</td>\n",
       "      <td>47.7</td>\n",
       "      <td>48.4</td>\n",
       "      <td>49.5</td>\n",
       "    </tr>\n",
       "    <tr>\n",
       "      <th>17</th>\n",
       "      <td>53.3</td>\n",
       "      <td>54.6</td>\n",
       "      <td>55.1</td>\n",
       "      <td>55.3</td>\n",
       "    </tr>\n",
       "    <tr>\n",
       "      <th>18</th>\n",
       "      <td>46.2</td>\n",
       "      <td>47.5</td>\n",
       "      <td>48.1</td>\n",
       "      <td>48.4</td>\n",
       "    </tr>\n",
       "    <tr>\n",
       "      <th>19</th>\n",
       "      <td>46.3</td>\n",
       "      <td>47.6</td>\n",
       "      <td>51.3</td>\n",
       "      <td>51.8</td>\n",
       "    </tr>\n",
       "  </tbody>\n",
       "</table>\n",
       "</div>"
      ],
      "text/plain": [
       "       a     b     c     d\n",
       "0   47.8  48.8  49.0  49.7\n",
       "1   46.4  47.3  47.7  48.4\n",
       "2   46.3  46.8  47.8  48.5\n",
       "3   45.1  45.3  46.1  47.2\n",
       "4   47.6  48.5  48.9  49.3\n",
       "5   52.5  53.2  53.3  53.7\n",
       "6   51.2  53.0  54.3  54.4\n",
       "7   49.8  50.0  50.3  52.7\n",
       "8   48.1  50.8  52.3  54.4\n",
       "9   45.0  47.0  47.3  48.3\n",
       "10  51.2  51.4  51.6  51.9\n",
       "11  48.5  49.2  53.0  55.5\n",
       "12  52.1  52.8  53.7  55.0\n",
       "13  48.2  48.9  49.3  49.8\n",
       "14  49.6  50.4  51.2  51.8\n",
       "15  50.7  51.7  52.7  53.3\n",
       "16  47.2  47.7  48.4  49.5\n",
       "17  53.3  54.6  55.1  55.3\n",
       "18  46.2  47.5  48.1  48.4\n",
       "19  46.3  47.6  51.3  51.8"
      ]
     },
     "execution_count": 40,
     "metadata": {},
     "output_type": "execute_result"
    }
   ],
   "source": [
    "bone = pd.read_csv('./data/BONE.csv', header=None, delimiter=r\"\\s+\").drop([0], axis=1)\n",
    "bone.columns= ['a', 'b', 'c', 'd']\n",
    "bone"
   ]
  },
  {
   "cell_type": "code",
   "execution_count": null,
   "id": "67a4e211-9896-45b5-84b9-ab8c0749b78d",
   "metadata": {},
   "outputs": [],
   "source": []
  },
  {
   "cell_type": "code",
   "execution_count": 26,
   "id": "00c9acb1-69e7-4929-a10a-ecb13627fa2f",
   "metadata": {},
   "outputs": [
    {
     "data": {
      "text/html": [
       "<div>\n",
       "<style scoped>\n",
       "    .dataframe tbody tr th:only-of-type {\n",
       "        vertical-align: middle;\n",
       "    }\n",
       "\n",
       "    .dataframe tbody tr th {\n",
       "        vertical-align: top;\n",
       "    }\n",
       "\n",
       "    .dataframe thead th {\n",
       "        text-align: right;\n",
       "    }\n",
       "</style>\n",
       "<table border=\"1\" class=\"dataframe\">\n",
       "  <thead>\n",
       "    <tr style=\"text-align: right;\">\n",
       "      <th></th>\n",
       "      <th>a</th>\n",
       "      <th>b</th>\n",
       "      <th>c</th>\n",
       "      <th>d</th>\n",
       "    </tr>\n",
       "  </thead>\n",
       "  <tbody>\n",
       "    <tr>\n",
       "      <th>count</th>\n",
       "      <td>20.000000</td>\n",
       "      <td>20.000000</td>\n",
       "      <td>20.000000</td>\n",
       "      <td>9.000000</td>\n",
       "    </tr>\n",
       "    <tr>\n",
       "      <th>mean</th>\n",
       "      <td>49.180000</td>\n",
       "      <td>50.270000</td>\n",
       "      <td>51.015000</td>\n",
       "      <td>50.922222</td>\n",
       "    </tr>\n",
       "    <tr>\n",
       "      <th>std</th>\n",
       "      <td>2.526825</td>\n",
       "      <td>2.688788</td>\n",
       "      <td>2.826244</td>\n",
       "      <td>2.856474</td>\n",
       "    </tr>\n",
       "    <tr>\n",
       "      <th>min</th>\n",
       "      <td>45.100000</td>\n",
       "      <td>45.300000</td>\n",
       "      <td>46.100000</td>\n",
       "      <td>47.200000</td>\n",
       "    </tr>\n",
       "    <tr>\n",
       "      <th>25%</th>\n",
       "      <td>47.575000</td>\n",
       "      <td>48.325000</td>\n",
       "      <td>48.775000</td>\n",
       "      <td>48.500000</td>\n",
       "    </tr>\n",
       "    <tr>\n",
       "      <th>50%</th>\n",
       "      <td>48.500000</td>\n",
       "      <td>50.400000</td>\n",
       "      <td>51.050000</td>\n",
       "      <td>49.700000</td>\n",
       "    </tr>\n",
       "    <tr>\n",
       "      <th>75%</th>\n",
       "      <td>51.250000</td>\n",
       "      <td>52.775000</td>\n",
       "      <td>53.300000</td>\n",
       "      <td>53.700000</td>\n",
       "    </tr>\n",
       "    <tr>\n",
       "      <th>max</th>\n",
       "      <td>54.600000</td>\n",
       "      <td>55.100000</td>\n",
       "      <td>55.500000</td>\n",
       "      <td>54.400000</td>\n",
       "    </tr>\n",
       "  </tbody>\n",
       "</table>\n",
       "</div>"
      ],
      "text/plain": [
       "               a          b          c          d\n",
       "count  20.000000  20.000000  20.000000   9.000000\n",
       "mean   49.180000  50.270000  51.015000  50.922222\n",
       "std     2.526825   2.688788   2.826244   2.856474\n",
       "min    45.100000  45.300000  46.100000  47.200000\n",
       "25%    47.575000  48.325000  48.775000  48.500000\n",
       "50%    48.500000  50.400000  51.050000  49.700000\n",
       "75%    51.250000  52.775000  53.300000  53.700000\n",
       "max    54.600000  55.100000  55.500000  54.400000"
      ]
     },
     "execution_count": 26,
     "metadata": {},
     "output_type": "execute_result"
    }
   ],
   "source": [
    "bone.describe()"
   ]
  },
  {
   "cell_type": "code",
   "execution_count": 27,
   "id": "00d86526-7436-4a96-8601-9cfa457b2206",
   "metadata": {},
   "outputs": [
    {
     "data": {
      "text/plain": [
       "<AxesSubplot:>"
      ]
     },
     "execution_count": 27,
     "metadata": {},
     "output_type": "execute_result"
    },
    {
     "data": {
      "image/png": "[encoded data removed]",
      "text/plain": [
       "<Figure size 432x288 with 1 Axes>"
      ]
     },
     "metadata": {
      "needs_background": "light"
     },
     "output_type": "display_data"
    }
   ],
   "source": [
    "bone.boxplot()"
   ]
  },
  {
   "cell_type": "code",
   "execution_count": 41,
   "id": "5734619e-d999-4ce1-991f-ecd312208cec",
   "metadata": {},
   "outputs": [
    {
     "name": "stdout",
     "output_type": "stream",
     "text": [
      "[pca] >Processing dataframe..\n",
      "[pca] >The PCA reduction is performed to capture [95.0%] explained variance using the [4] columns of the input data.\n",
      "[pca] >Fitting using PCA..\n",
      "[pca] >Computing loadings and PCs..\n",
      "[pca] >Computing explained variance..\n",
      "[pca] >Number of components is [2] that covers the [95.00%] explained variance.\n",
      "[pca] >Outlier detection using Hotelling T2 test with alpha=[0.05] and n_components=[2]\n",
      "[pca] >Outlier detection using SPE/DmodX with n_std=[2]\n"
     ]
    }
   ],
   "source": [
    "from pca import pca\n",
    "\n",
    "model = pca(n_components=0.95)\n",
    "results = model.fit_transform(bone)"
   ]
  },
  {
   "cell_type": "code",
   "execution_count": 42,
   "id": "f18ed41e-d135-4b9f-8182-91686b7ece7b",
   "metadata": {},
   "outputs": [
    {
     "data": {
      "image/png": "[encoded data removed]",
      "text/plain": [
       "<Figure size 720x576 with 1 Axes>"
      ]
     },
     "metadata": {
      "needs_background": "light"
     },
     "output_type": "display_data"
    },
    {
     "data": {
      "text/plain": [
       "<Figure size 432x288 with 0 Axes>"
      ]
     },
     "metadata": {},
     "output_type": "display_data"
    }
   ],
   "source": [
    "fig, ax = model.plot()"
   ]
  },
  {
   "cell_type": "code",
   "execution_count": 44,
   "id": "65dea3b5-b4d3-44f5-a04d-21943c75aa3a",
   "metadata": {},
   "outputs": [
    {
     "data": {
      "image/png": "[encoded data removed]",
      "text/plain": [
       "<Figure size 720x576 with 1 Axes>"
      ]
     },
     "metadata": {
      "needs_background": "light"
     },
     "output_type": "display_data"
    }
   ],
   "source": [
    "fig, ax = model.biplot(n_feat=4)"
   ]
  }
 ],
 "metadata": {
  "kernelspec": {
   "display_name": "Python 3 (ipykernel)",
   "language": "python",
   "name": "python3"
  },
  "language_info": {
   "codemirror_mode": {
    "name": "ipython",
    "version": 3
   },
   "file_extension": ".py",
   "mimetype": "text/x-python",
   "name": "python",
   "nbconvert_exporter": "python",
   "pygments_lexer": "ipython3",
   "version": "3.7.10"
  }
 },
 "nbformat": 4,
 "nbformat_minor": 5
}
