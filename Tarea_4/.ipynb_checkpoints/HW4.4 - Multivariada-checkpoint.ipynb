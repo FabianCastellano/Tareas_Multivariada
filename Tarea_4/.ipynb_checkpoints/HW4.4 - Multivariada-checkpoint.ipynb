{
 "cells": [
  {
   "cell_type": "markdown",
   "id": "77f6d9a1-2adf-41ce-b0f6-f027f4fe2068",
   "metadata": {},
   "source": [
    "## Problema $4$\n",
    "\n",
    "Consideremos nuevamente el conjunto de datos diag2010.txt (usado en una tarea anterior). Las variables de interés son:\n",
    "\n",
    "* $X_{1}=$ Puntaje en la PSU parte matemática \n",
    "* $X_{2}=$ Notas de Enseñanza Media \n",
    "* $X_{3}=$ Puntaje en la Prueba de Diagnóstico USM"
   ]
  },
  {
   "cell_type": "code",
   "execution_count": 47,
   "id": "f36769d2-4dde-4323-a99d-6349dd8c0c28",
   "metadata": {},
   "outputs": [],
   "source": [
    "#importar librerias\n",
    "import pandas as pd\n",
    "import numpy as np\n",
    "import altair as alt"
   ]
  },
  {
   "cell_type": "code",
   "execution_count": 2,
   "id": "1408919b-af18-4ce8-aa66-a8b03dadb443",
   "metadata": {},
   "outputs": [
    {
     "data": {
      "text/html": [
       "<div>\n",
       "<style scoped>\n",
       "    .dataframe tbody tr th:only-of-type {\n",
       "        vertical-align: middle;\n",
       "    }\n",
       "\n",
       "    .dataframe tbody tr th {\n",
       "        vertical-align: top;\n",
       "    }\n",
       "\n",
       "    .dataframe thead th {\n",
       "        text-align: right;\n",
       "    }\n",
       "</style>\n",
       "<table border=\"1\" class=\"dataframe\">\n",
       "  <thead>\n",
       "    <tr style=\"text-align: right;\">\n",
       "      <th></th>\n",
       "      <th>mate</th>\n",
       "      <th>nem</th>\n",
       "      <th>calculo</th>\n",
       "    </tr>\n",
       "  </thead>\n",
       "  <tbody>\n",
       "    <tr>\n",
       "      <th>0</th>\n",
       "      <td>678.0</td>\n",
       "      <td>620.0</td>\n",
       "      <td>731</td>\n",
       "    </tr>\n",
       "    <tr>\n",
       "      <th>1</th>\n",
       "      <td>756.0</td>\n",
       "      <td>496.0</td>\n",
       "      <td>762</td>\n",
       "    </tr>\n",
       "    <tr>\n",
       "      <th>2</th>\n",
       "      <td>718.0</td>\n",
       "      <td>682.0</td>\n",
       "      <td>712</td>\n",
       "    </tr>\n",
       "    <tr>\n",
       "      <th>3</th>\n",
       "      <td>682.0</td>\n",
       "      <td>723.0</td>\n",
       "      <td>683</td>\n",
       "    </tr>\n",
       "    <tr>\n",
       "      <th>4</th>\n",
       "      <td>682.0</td>\n",
       "      <td>723.0</td>\n",
       "      <td>769</td>\n",
       "    </tr>\n",
       "  </tbody>\n",
       "</table>\n",
       "</div>"
      ],
      "text/plain": [
       "    mate    nem  calculo\n",
       "0  678.0  620.0      731\n",
       "1  756.0  496.0      762\n",
       "2  718.0  682.0      712\n",
       "3  682.0  723.0      683\n",
       "4  682.0  723.0      769"
      ]
     },
     "execution_count": 2,
     "metadata": {},
     "output_type": "execute_result"
    }
   ],
   "source": [
    "# obtener y 'masajear' los datos\n",
    "df = pd.read_csv('data/diag2010.txt', sep=\"\\t\")\n",
    "ptje = df.reset_index()[['Mate','NEM ','Calculo']].drop(399).dropna()\n",
    "ptje['Mate'] = pd.to_numeric(ptje.Mate)\n",
    "ptje.columns = ptje.columns.str.strip().str.lower()\n",
    "ptje.head()"
   ]
  },
  {
   "cell_type": "code",
   "execution_count": 115,
   "id": "e4e45636-6b32-4978-87b0-3f56e8c50cef",
   "metadata": {},
   "outputs": [
    {
     "data": {
      "text/html": [
       "<div>\n",
       "<style scoped>\n",
       "    .dataframe tbody tr th:only-of-type {\n",
       "        vertical-align: middle;\n",
       "    }\n",
       "\n",
       "    .dataframe tbody tr th {\n",
       "        vertical-align: top;\n",
       "    }\n",
       "\n",
       "    .dataframe thead th {\n",
       "        text-align: right;\n",
       "    }\n",
       "</style>\n",
       "<table border=\"1\" class=\"dataframe\">\n",
       "  <thead>\n",
       "    <tr style=\"text-align: right;\">\n",
       "      <th></th>\n",
       "      <th>PSU</th>\n",
       "      <th>LC</th>\n",
       "      <th>Mate</th>\n",
       "      <th>NEM</th>\n",
       "      <th>OC</th>\n",
       "      <th>OH</th>\n",
       "      <th>Buenas</th>\n",
       "      <th>Malas</th>\n",
       "      <th>Omitidas</th>\n",
       "      <th>Nota</th>\n",
       "      <th>Calculo</th>\n",
       "      <th>R1</th>\n",
       "      <th>R2</th>\n",
       "      <th>R3</th>\n",
       "      <th>R4</th>\n",
       "    </tr>\n",
       "  </thead>\n",
       "  <tbody>\n",
       "    <tr>\n",
       "      <th>0</th>\n",
       "      <td>669.80</td>\n",
       "      <td>710</td>\n",
       "      <td>678.0</td>\n",
       "      <td>620.0</td>\n",
       "      <td>677.0</td>\n",
       "      <td>0.0</td>\n",
       "      <td>29</td>\n",
       "      <td>6</td>\n",
       "      <td>5</td>\n",
       "      <td>731</td>\n",
       "      <td>731</td>\n",
       "      <td>69.2</td>\n",
       "      <td>92.3</td>\n",
       "      <td>62.5</td>\n",
       "      <td>50.0</td>\n",
       "    </tr>\n",
       "    <tr>\n",
       "      <th>1</th>\n",
       "      <td>667.40</td>\n",
       "      <td>674</td>\n",
       "      <td>756.0</td>\n",
       "      <td>496.0</td>\n",
       "      <td>684.0</td>\n",
       "      <td>0.0</td>\n",
       "      <td>31</td>\n",
       "      <td>1</td>\n",
       "      <td>8</td>\n",
       "      <td>762</td>\n",
       "      <td>762</td>\n",
       "      <td>84.6</td>\n",
       "      <td>53.8</td>\n",
       "      <td>87.5</td>\n",
       "      <td>100.0</td>\n",
       "    </tr>\n",
       "    <tr>\n",
       "      <th>2</th>\n",
       "      <td>693.80</td>\n",
       "      <td>659</td>\n",
       "      <td>718.0</td>\n",
       "      <td>682.0</td>\n",
       "      <td>684.0</td>\n",
       "      <td>0.0</td>\n",
       "      <td>27</td>\n",
       "      <td>6</td>\n",
       "      <td>7</td>\n",
       "      <td>712</td>\n",
       "      <td>712</td>\n",
       "      <td>84.6</td>\n",
       "      <td>46.2</td>\n",
       "      <td>75.0</td>\n",
       "      <td>66.7</td>\n",
       "    </tr>\n",
       "    <tr>\n",
       "      <th>3</th>\n",
       "      <td>669.65</td>\n",
       "      <td>576</td>\n",
       "      <td>682.0</td>\n",
       "      <td>723.0</td>\n",
       "      <td>668.0</td>\n",
       "      <td>0.0</td>\n",
       "      <td>25</td>\n",
       "      <td>10</td>\n",
       "      <td>5</td>\n",
       "      <td>683</td>\n",
       "      <td>683</td>\n",
       "      <td>61.5</td>\n",
       "      <td>61.5</td>\n",
       "      <td>50.0</td>\n",
       "      <td>83.3</td>\n",
       "    </tr>\n",
       "    <tr>\n",
       "      <th>4</th>\n",
       "      <td>666.55</td>\n",
       "      <td>582</td>\n",
       "      <td>682.0</td>\n",
       "      <td>723.0</td>\n",
       "      <td>625.0</td>\n",
       "      <td>0.0</td>\n",
       "      <td>33</td>\n",
       "      <td>6</td>\n",
       "      <td>1</td>\n",
       "      <td>769</td>\n",
       "      <td>769</td>\n",
       "      <td>84.6</td>\n",
       "      <td>84.6</td>\n",
       "      <td>75.0</td>\n",
       "      <td>83.3</td>\n",
       "    </tr>\n",
       "  </tbody>\n",
       "</table>\n",
       "</div>"
      ],
      "text/plain": [
       "      PSU   LC   Mate   NEM      OC   OH  Buenas  Malas  Omitidas  Nota  \\\n",
       "0  669.80  710  678.0  620.0  677.0  0.0      29      6         5   731   \n",
       "1  667.40  674  756.0  496.0  684.0  0.0      31      1         8   762   \n",
       "2  693.80  659  718.0  682.0  684.0  0.0      27      6         7   712   \n",
       "3  669.65  576  682.0  723.0  668.0  0.0      25     10         5   683   \n",
       "4  666.55  582  682.0  723.0  625.0  0.0      33      6         1   769   \n",
       "\n",
       "   Calculo   R1    R2    R3     R4   \n",
       "0      731  69.2  92.3  62.5   50.0  \n",
       "1      762  84.6  53.8  87.5  100.0  \n",
       "2      712  84.6  46.2  75.0   66.7  \n",
       "3      683  61.5  61.5  50.0   83.3  \n",
       "4      769  84.6  84.6  75.0   83.3  "
      ]
     },
     "execution_count": 115,
     "metadata": {},
     "output_type": "execute_result"
    }
   ],
   "source": [
    "df.head()"
   ]
  },
  {
   "cell_type": "markdown",
   "id": "27e390a2-abd1-4aa1-a0ab-40a08e4eee10",
   "metadata": {},
   "source": [
    "a) Use análisis discriminante para separar las poblaciones en tres poblaciones. Recuerde que la separación hecha por la USM fue en base al puntaje en la prueba de diagnóstico solamente (Puntaje $>820$, Puntaje entre 620 y 820 , Puntaje $<620$ )."
   ]
  },
  {
   "cell_type": "code",
   "execution_count": 104,
   "id": "27984180-9976-481c-ba54-8b968c31caad",
   "metadata": {},
   "outputs": [
    {
     "data": {
      "text/html": [
       "<div>\n",
       "<style scoped>\n",
       "    .dataframe tbody tr th:only-of-type {\n",
       "        vertical-align: middle;\n",
       "    }\n",
       "\n",
       "    .dataframe tbody tr th {\n",
       "        vertical-align: top;\n",
       "    }\n",
       "\n",
       "    .dataframe thead th {\n",
       "        text-align: right;\n",
       "    }\n",
       "</style>\n",
       "<table border=\"1\" class=\"dataframe\">\n",
       "  <thead>\n",
       "    <tr style=\"text-align: right;\">\n",
       "      <th></th>\n",
       "      <th>mate</th>\n",
       "      <th>nem</th>\n",
       "      <th>calculo</th>\n",
       "      <th>pi</th>\n",
       "    </tr>\n",
       "  </thead>\n",
       "  <tbody>\n",
       "    <tr>\n",
       "      <th>0</th>\n",
       "      <td>678.0</td>\n",
       "      <td>620.0</td>\n",
       "      <td>731</td>\n",
       "      <td>2</td>\n",
       "    </tr>\n",
       "    <tr>\n",
       "      <th>1</th>\n",
       "      <td>756.0</td>\n",
       "      <td>496.0</td>\n",
       "      <td>762</td>\n",
       "      <td>2</td>\n",
       "    </tr>\n",
       "    <tr>\n",
       "      <th>2</th>\n",
       "      <td>718.0</td>\n",
       "      <td>682.0</td>\n",
       "      <td>712</td>\n",
       "      <td>2</td>\n",
       "    </tr>\n",
       "    <tr>\n",
       "      <th>3</th>\n",
       "      <td>682.0</td>\n",
       "      <td>723.0</td>\n",
       "      <td>683</td>\n",
       "      <td>2</td>\n",
       "    </tr>\n",
       "    <tr>\n",
       "      <th>4</th>\n",
       "      <td>682.0</td>\n",
       "      <td>723.0</td>\n",
       "      <td>769</td>\n",
       "      <td>2</td>\n",
       "    </tr>\n",
       "  </tbody>\n",
       "</table>\n",
       "</div>"
      ],
      "text/plain": [
       "    mate    nem  calculo  pi\n",
       "0  678.0  620.0      731   2\n",
       "1  756.0  496.0      762   2\n",
       "2  718.0  682.0      712   2\n",
       "3  682.0  723.0      683   2\n",
       "4  682.0  723.0      769   2"
      ]
     },
     "execution_count": 104,
     "metadata": {},
     "output_type": "execute_result"
    }
   ],
   "source": [
    "def classificator(x):\n",
    "    if x>820:\n",
    "        return 1\n",
    "    elif x<620:\n",
    "        return 3\n",
    "    else: \n",
    "        return 2\n",
    "ptje['pi'] = ptje['calculo'].apply(classificator)\n",
    "\n",
    "ptje.head()"
   ]
  },
  {
   "cell_type": "code",
   "execution_count": 131,
   "id": "27be8e6e-c53b-4b70-8db0-5a023eb09c82",
   "metadata": {},
   "outputs": [],
   "source": [
    "# separamos los datos para no usar los datos mismos datos de entrenamiento en la 4.2\n",
    "from sklearn.model_selection import train_test_split\n",
    "X = ptje[['mate', 'nem', 'calculo']]\n",
    "y = ptje['pi']\n",
    "X_train, X_test, y_train, y_test = train_test_split(X, y, test_size=0.33, random_state=42)"
   ]
  },
  {
   "cell_type": "code",
   "execution_count": 137,
   "id": "c65f93b8-1dcc-4a3b-bc3d-b12b456595bb",
   "metadata": {},
   "outputs": [
    {
     "data": {
      "text/plain": [
       "LinearDiscriminantAnalysis()"
      ]
     },
     "execution_count": 137,
     "metadata": {},
     "output_type": "execute_result"
    }
   ],
   "source": [
    "# realizamos el analisis\n",
    "from sklearn.discriminant_analysis import LinearDiscriminantAnalysis\n",
    "\n",
    "clf = LinearDiscriminantAnalysis()\n",
    "clf.fit(X_train, y_train)"
   ]
  },
  {
   "cell_type": "markdown",
   "id": "39ff81c9-191e-4b94-b7ab-1a8cdc3cfa71",
   "metadata": {},
   "source": [
    "b) Muestre un diagrama de dispersion para las dos primeras funciones discriminantes para observar visualmente si existe separacion entre los grupos de variables."
   ]
  },
  {
   "cell_type": "code",
   "execution_count": 143,
   "id": "e707349d-39a5-4385-b100-823045a53c70",
   "metadata": {
    "tags": []
   },
   "outputs": [],
   "source": [
    "test = pd.DataFrame(data = X_test, columns = ['mate', 'nem', 'calculo'] )\n",
    "test['pi_pred']=clf.predict(X_test)"
   ]
  },
  {
   "cell_type": "code",
   "execution_count": 146,
   "id": "a33e2f5d-a816-4d2e-9c70-d552a00f2a3b",
   "metadata": {},
   "outputs": [
    {
     "data": {
      "text/html": [
       "\n",
       "<div id=\"altair-viz-7f6fee777b16483e85fd5eb8ecb05017\"></div>\n",
       "<script type=\"text/javascript\">\n",
       "  (function(spec, embedOpt){\n",
       "    let outputDiv = document.currentScript.previousElementSibling;\n",
       "    if (outputDiv.id !== \"altair-viz-7f6fee777b16483e85fd5eb8ecb05017\") {\n",
       "      outputDiv = document.getElementById(\"altair-viz-7f6fee777b16483e85fd5eb8ecb05017\");\n",
       "    }\n",
       "    const paths = {\n",
       "      \"vega\": \"https://cdn.jsdelivr.net/npm//vega@5?noext\",\n",
       "      \"vega-lib\": \"https://cdn.jsdelivr.net/npm//vega-lib?noext\",\n",
       "      \"vega-lite\": \"https://cdn.jsdelivr.net/npm//vega-lite@4.8.1?noext\",\n",
       "      \"vega-embed\": \"https://cdn.jsdelivr.net/npm//vega-embed@6?noext\",\n",
       "    };\n",
       "\n",
       "    function loadScript(lib) {\n",
       "      return new Promise(function(resolve, reject) {\n",
       "        var s = document.createElement('script');\n",
       "        s.src = paths[lib];\n",
       "        s.async = true;\n",
       "        s.onload = () => resolve(paths[lib]);\n",
       "        s.onerror = () => reject(`Error loading script: ${paths[lib]}`);\n",
       "        document.getElementsByTagName(\"head\")[0].appendChild(s);\n",
       "      });\n",
       "    }\n",
       "\n",
       "    function showError(err) {\n",
       "      outputDiv.innerHTML = `<div class=\"error\" style=\"color:red;\">${err}</div>`;\n",
       "      throw err;\n",
       "    }\n",
       "\n",
       "    function displayChart(vegaEmbed) {\n",
       "      vegaEmbed(outputDiv, spec, embedOpt)\n",
       "        .catch(err => showError(`Javascript Error: ${err.message}<br>This usually means there's a typo in your chart specification. See the javascript console for the full traceback.`));\n",
       "    }\n",
       "\n",
       "    if(typeof define === \"function\" && define.amd) {\n",
       "      requirejs.config({paths});\n",
       "      require([\"vega-embed\"], displayChart, err => showError(`Error loading script: ${err.message}`));\n",
       "    } else if (typeof vegaEmbed === \"function\") {\n",
       "      displayChart(vegaEmbed);\n",
       "    } else {\n",
       "      loadScript(\"vega\")\n",
       "        .then(() => loadScript(\"vega-lite\"))\n",
       "        .then(() => loadScript(\"vega-embed\"))\n",
       "        .catch(showError)\n",
       "        .then(() => displayChart(vegaEmbed));\n",
       "    }\n",
       "  })({\"config\": {\"view\": {\"continuousWidth\": 400, \"continuousHeight\": 300}}, \"data\": {\"name\": \"data-1785761dde87e743ffc7e0be361321a0\"}, \"mark\": {\"type\": \"circle\", \"size\": 60}, \"encoding\": {\"color\": {\"type\": \"ordinal\", \"field\": \"pi_pred\", \"scale\": {\"scheme\": \"dark2\"}}, \"tooltip\": [{\"type\": \"quantitative\", \"field\": \"mate\"}, {\"type\": \"quantitative\", \"field\": \"nem\"}, {\"type\": \"quantitative\", \"field\": \"calculo\"}, {\"type\": \"quantitative\", \"field\": \"pi_pred\"}], \"x\": {\"type\": \"quantitative\", \"field\": \"mate\", \"scale\": {\"zero\": false}}, \"y\": {\"type\": \"quantitative\", \"field\": \"nem\", \"scale\": {\"zero\": false}}}, \"selection\": {\"selector014\": {\"type\": \"interval\", \"bind\": \"scales\", \"encodings\": [\"x\", \"y\"]}}, \"$schema\": \"https://vega.github.io/schema/vega-lite/v4.8.1.json\", \"datasets\": {\"data-1785761dde87e743ffc7e0be361321a0\": [{\"mate\": 701.0, \"nem\": 579.0, \"calculo\": 759, \"pi_pred\": 2}, {\"mate\": 706.0, \"nem\": 620.0, \"calculo\": 719, \"pi_pred\": 2}, {\"mate\": 718.0, \"nem\": 579.0, \"calculo\": 788, \"pi_pred\": 2}, {\"mate\": 812.0, \"nem\": 599.0, \"calculo\": 816, \"pi_pred\": 2}, {\"mate\": 640.0, \"nem\": 579.0, \"calculo\": 655, \"pi_pred\": 2}, {\"mate\": 673.0, \"nem\": 661.0, \"calculo\": 671, \"pi_pred\": 2}, {\"mate\": 682.0, \"nem\": 702.0, \"calculo\": 662, \"pi_pred\": 2}, {\"mate\": 831.0, \"nem\": 702.0, \"calculo\": 783, \"pi_pred\": 2}, {\"mate\": 774.0, \"nem\": 620.0, \"calculo\": 709, \"pi_pred\": 2}, {\"mate\": 652.0, \"nem\": 723.0, \"calculo\": 629, \"pi_pred\": 2}, {\"mate\": 688.0, \"nem\": 682.0, \"calculo\": 693, \"pi_pred\": 2}, {\"mate\": 630.0, \"nem\": 703.0, \"calculo\": 617, \"pi_pred\": 3}, {\"mate\": 660.0, \"nem\": 702.0, \"calculo\": 702, \"pi_pred\": 2}, {\"mate\": 718.0, \"nem\": 723.0, \"calculo\": 631, \"pi_pred\": 2}, {\"mate\": 660.0, \"nem\": 558.0, \"calculo\": 660, \"pi_pred\": 2}, {\"mate\": 737.0, \"nem\": 599.0, \"calculo\": 690, \"pi_pred\": 2}, {\"mate\": 756.0, \"nem\": 558.0, \"calculo\": 676, \"pi_pred\": 2}, {\"mate\": 637.0, \"nem\": 723.0, \"calculo\": 576, \"pi_pred\": 3}, {\"mate\": 678.0, \"nem\": 682.0, \"calculo\": 733, \"pi_pred\": 2}, {\"mate\": 652.0, \"nem\": 682.0, \"calculo\": 657, \"pi_pred\": 2}, {\"mate\": 737.0, \"nem\": 682.0, \"calculo\": 755, \"pi_pred\": 2}, {\"mate\": 737.0, \"nem\": 579.0, \"calculo\": 705, \"pi_pred\": 2}, {\"mate\": 694.0, \"nem\": 785.0, \"calculo\": 641, \"pi_pred\": 2}, {\"mate\": 737.0, \"nem\": 641.0, \"calculo\": 717, \"pi_pred\": 2}, {\"mate\": 616.0, \"nem\": 702.0, \"calculo\": 652, \"pi_pred\": 2}, {\"mate\": 706.0, \"nem\": 599.0, \"calculo\": 709, \"pi_pred\": 2}, {\"mate\": 737.0, \"nem\": 641.0, \"calculo\": 797, \"pi_pred\": 2}, {\"mate\": 682.0, \"nem\": 599.0, \"calculo\": 693, \"pi_pred\": 2}, {\"mate\": 682.0, \"nem\": 599.0, \"calculo\": 683, \"pi_pred\": 2}, {\"mate\": 634.0, \"nem\": 723.0, \"calculo\": 565, \"pi_pred\": 3}, {\"mate\": 565.0, \"nem\": 661.0, \"calculo\": 631, \"pi_pred\": 2}, {\"mate\": 669.0, \"nem\": 620.0, \"calculo\": 695, \"pi_pred\": 2}, {\"mate\": 701.0, \"nem\": 661.0, \"calculo\": 714, \"pi_pred\": 2}, {\"mate\": 678.0, \"nem\": 496.0, \"calculo\": 660, \"pi_pred\": 2}, {\"mate\": 660.0, \"nem\": 642.0, \"calculo\": 638, \"pi_pred\": 2}, {\"mate\": 660.0, \"nem\": 620.0, \"calculo\": 667, \"pi_pred\": 2}, {\"mate\": 645.0, \"nem\": 744.0, \"calculo\": 586, \"pi_pred\": 3}, {\"mate\": 656.0, \"nem\": 682.0, \"calculo\": 650, \"pi_pred\": 2}, {\"mate\": 756.0, \"nem\": 620.0, \"calculo\": 778, \"pi_pred\": 2}, {\"mate\": 737.0, \"nem\": 702.0, \"calculo\": 679, \"pi_pred\": 2}, {\"mate\": 774.0, \"nem\": 661.0, \"calculo\": 826, \"pi_pred\": 2}, {\"mate\": 756.0, \"nem\": 579.0, \"calculo\": 688, \"pi_pred\": 2}, {\"mate\": 812.0, \"nem\": 641.0, \"calculo\": 747, \"pi_pred\": 2}, {\"mate\": 701.0, \"nem\": 579.0, \"calculo\": 657, \"pi_pred\": 2}, {\"mate\": 688.0, \"nem\": 702.0, \"calculo\": 641, \"pi_pred\": 2}, {\"mate\": 630.0, \"nem\": 621.0, \"calculo\": 631, \"pi_pred\": 2}, {\"mate\": 850.0, \"nem\": 682.0, \"calculo\": 771, \"pi_pred\": 2}, {\"mate\": 737.0, \"nem\": 702.0, \"calculo\": 669, \"pi_pred\": 2}, {\"mate\": 640.0, \"nem\": 558.0, \"calculo\": 574, \"pi_pred\": 3}, {\"mate\": 718.0, \"nem\": 599.0, \"calculo\": 755, \"pi_pred\": 2}, {\"mate\": 640.0, \"nem\": 682.0, \"calculo\": 622, \"pi_pred\": 2}, {\"mate\": 640.0, \"nem\": 723.0, \"calculo\": 629, \"pi_pred\": 2}, {\"mate\": 812.0, \"nem\": 682.0, \"calculo\": 762, \"pi_pred\": 2}, {\"mate\": 678.0, \"nem\": 599.0, \"calculo\": 655, \"pi_pred\": 2}, {\"mate\": 812.0, \"nem\": 723.0, \"calculo\": 814, \"pi_pred\": 2}, {\"mate\": 774.0, \"nem\": 641.0, \"calculo\": 747, \"pi_pred\": 2}, {\"mate\": 706.0, \"nem\": 661.0, \"calculo\": 705, \"pi_pred\": 2}, {\"mate\": 600.0, \"nem\": 764.0, \"calculo\": 553, \"pi_pred\": 3}, {\"mate\": 737.0, \"nem\": 682.0, \"calculo\": 816, \"pi_pred\": 2}, {\"mate\": 718.0, \"nem\": 620.0, \"calculo\": 674, \"pi_pred\": 2}, {\"mate\": 756.0, \"nem\": 620.0, \"calculo\": 745, \"pi_pred\": 2}, {\"mate\": 669.0, \"nem\": 682.0, \"calculo\": 719, \"pi_pred\": 2}, {\"mate\": 774.0, \"nem\": 662.0, \"calculo\": 807, \"pi_pred\": 2}, {\"mate\": 812.0, \"nem\": 620.0, \"calculo\": 814, \"pi_pred\": 2}, {\"mate\": 669.0, \"nem\": 682.0, \"calculo\": 600, \"pi_pred\": 3}, {\"mate\": 718.0, \"nem\": 538.0, \"calculo\": 788, \"pi_pred\": 2}, {\"mate\": 664.0, \"nem\": 764.0, \"calculo\": 719, \"pi_pred\": 2}, {\"mate\": 718.0, \"nem\": 682.0, \"calculo\": 674, \"pi_pred\": 2}, {\"mate\": 756.0, \"nem\": 620.0, \"calculo\": 781, \"pi_pred\": 2}, {\"mate\": 737.0, \"nem\": 702.0, \"calculo\": 690, \"pi_pred\": 2}, {\"mate\": 656.0, \"nem\": 476.0, \"calculo\": 671, \"pi_pred\": 2}, {\"mate\": 678.0, \"nem\": 785.0, \"calculo\": 712, \"pi_pred\": 2}, {\"mate\": 609.0, \"nem\": 703.0, \"calculo\": 631, \"pi_pred\": 2}, {\"mate\": 682.0, \"nem\": 805.0, \"calculo\": 688, \"pi_pred\": 2}, {\"mate\": 831.0, \"nem\": 641.0, \"calculo\": 814, \"pi_pred\": 2}, {\"mate\": 627.0, \"nem\": 641.0, \"calculo\": 541, \"pi_pred\": 3}, {\"mate\": 718.0, \"nem\": 661.0, \"calculo\": 664, \"pi_pred\": 2}, {\"mate\": 774.0, \"nem\": 682.0, \"calculo\": 705, \"pi_pred\": 2}, {\"mate\": 652.0, \"nem\": 641.0, \"calculo\": 636, \"pi_pred\": 2}, {\"mate\": 737.0, \"nem\": 620.0, \"calculo\": 738, \"pi_pred\": 2}, {\"mate\": 706.0, \"nem\": 723.0, \"calculo\": 724, \"pi_pred\": 2}, {\"mate\": 652.0, \"nem\": 641.0, \"calculo\": 631, \"pi_pred\": 2}, {\"mate\": 774.0, \"nem\": 661.0, \"calculo\": 740, \"pi_pred\": 2}, {\"mate\": 718.0, \"nem\": 744.0, \"calculo\": 693, \"pi_pred\": 2}, {\"mate\": 645.0, \"nem\": 682.0, \"calculo\": 714, \"pi_pred\": 2}, {\"mate\": 756.0, \"nem\": 599.0, \"calculo\": 664, \"pi_pred\": 2}, {\"mate\": 656.0, \"nem\": 702.0, \"calculo\": 633, \"pi_pred\": 2}, {\"mate\": 774.0, \"nem\": 682.0, \"calculo\": 755, \"pi_pred\": 2}, {\"mate\": 701.0, \"nem\": 723.0, \"calculo\": 700, \"pi_pred\": 2}, {\"mate\": 756.0, \"nem\": 702.0, \"calculo\": 690, \"pi_pred\": 2}, {\"mate\": 613.0, \"nem\": 661.0, \"calculo\": 557, \"pi_pred\": 3}, {\"mate\": 718.0, \"nem\": 682.0, \"calculo\": 774, \"pi_pred\": 2}, {\"mate\": 694.0, \"nem\": 641.0, \"calculo\": 738, \"pi_pred\": 2}, {\"mate\": 669.0, \"nem\": 702.0, \"calculo\": 531, \"pi_pred\": 3}, {\"mate\": 660.0, \"nem\": 682.0, \"calculo\": 683, \"pi_pred\": 2}, {\"mate\": 737.0, \"nem\": 661.0, \"calculo\": 614, \"pi_pred\": 3}, {\"mate\": 850.0, \"nem\": 723.0, \"calculo\": 814, \"pi_pred\": 2}, {\"mate\": 688.0, \"nem\": 599.0, \"calculo\": 714, \"pi_pred\": 2}, {\"mate\": 694.0, \"nem\": 723.0, \"calculo\": 648, \"pi_pred\": 2}, {\"mate\": 737.0, \"nem\": 723.0, \"calculo\": 724, \"pi_pred\": 2}, {\"mate\": 812.0, \"nem\": 620.0, \"calculo\": 690, \"pi_pred\": 2}, {\"mate\": 737.0, \"nem\": 702.0, \"calculo\": 728, \"pi_pred\": 2}, {\"mate\": 673.0, \"nem\": 641.0, \"calculo\": 752, \"pi_pred\": 2}, {\"mate\": 756.0, \"nem\": 620.0, \"calculo\": 750, \"pi_pred\": 2}, {\"mate\": 737.0, \"nem\": 579.0, \"calculo\": 724, \"pi_pred\": 2}, {\"mate\": 664.0, \"nem\": 661.0, \"calculo\": 603, \"pi_pred\": 3}, {\"mate\": 831.0, \"nem\": 558.0, \"calculo\": 778, \"pi_pred\": 2}, {\"mate\": 660.0, \"nem\": 641.0, \"calculo\": 643, \"pi_pred\": 2}, {\"mate\": 580.0, \"nem\": 538.0, \"calculo\": 581, \"pi_pred\": 3}, {\"mate\": 706.0, \"nem\": 662.0, \"calculo\": 679, \"pi_pred\": 2}, {\"mate\": 627.0, \"nem\": 579.0, \"calculo\": 569, \"pi_pred\": 3}, {\"mate\": 688.0, \"nem\": 539.0, \"calculo\": 662, \"pi_pred\": 2}, {\"mate\": 694.0, \"nem\": 723.0, \"calculo\": 660, \"pi_pred\": 2}, {\"mate\": 774.0, \"nem\": 558.0, \"calculo\": 705, \"pi_pred\": 2}, {\"mate\": 660.0, \"nem\": 702.0, \"calculo\": 612, \"pi_pred\": 3}, {\"mate\": 774.0, \"nem\": 496.0, \"calculo\": 778, \"pi_pred\": 2}, {\"mate\": 640.0, \"nem\": 661.0, \"calculo\": 629, \"pi_pred\": 2}, {\"mate\": 718.0, \"nem\": 661.0, \"calculo\": 719, \"pi_pred\": 2}, {\"mate\": 645.0, \"nem\": 599.0, \"calculo\": 569, \"pi_pred\": 3}, {\"mate\": 774.0, \"nem\": 764.0, \"calculo\": 762, \"pi_pred\": 2}, {\"mate\": 706.0, \"nem\": 682.0, \"calculo\": 686, \"pi_pred\": 2}, {\"mate\": 701.0, \"nem\": 702.0, \"calculo\": 679, \"pi_pred\": 2}, {\"mate\": 756.0, \"nem\": 661.0, \"calculo\": 828, \"pi_pred\": 2}, {\"mate\": 620.0, \"nem\": 620.0, \"calculo\": 595, \"pi_pred\": 3}, {\"mate\": 706.0, \"nem\": 538.0, \"calculo\": 622, \"pi_pred\": 2}, {\"mate\": 637.0, \"nem\": 744.0, \"calculo\": 624, \"pi_pred\": 2}, {\"mate\": 756.0, \"nem\": 620.0, \"calculo\": 774, \"pi_pred\": 2}, {\"mate\": 660.0, \"nem\": 702.0, \"calculo\": 669, \"pi_pred\": 2}, {\"mate\": 673.0, \"nem\": 744.0, \"calculo\": 740, \"pi_pred\": 2}, {\"mate\": 718.0, \"nem\": 723.0, \"calculo\": 721, \"pi_pred\": 2}, {\"mate\": 673.0, \"nem\": 579.0, \"calculo\": 667, \"pi_pred\": 2}, {\"mate\": 756.0, \"nem\": 599.0, \"calculo\": 721, \"pi_pred\": 2}, {\"mate\": 673.0, \"nem\": 579.0, \"calculo\": 688, \"pi_pred\": 2}, {\"mate\": 812.0, \"nem\": 744.0, \"calculo\": 733, \"pi_pred\": 2}, {\"mate\": 701.0, \"nem\": 599.0, \"calculo\": 655, \"pi_pred\": 2}, {\"mate\": 774.0, \"nem\": 702.0, \"calculo\": 664, \"pi_pred\": 2}, {\"mate\": 718.0, \"nem\": 641.0, \"calculo\": 591, \"pi_pred\": 3}, {\"mate\": 718.0, \"nem\": 641.0, \"calculo\": 698, \"pi_pred\": 2}, {\"mate\": 706.0, \"nem\": 661.0, \"calculo\": 750, \"pi_pred\": 2}, {\"mate\": 669.0, \"nem\": 744.0, \"calculo\": 652, \"pi_pred\": 2}, {\"mate\": 756.0, \"nem\": 599.0, \"calculo\": 662, \"pi_pred\": 2}, {\"mate\": 640.0, \"nem\": 702.0, \"calculo\": 679, \"pi_pred\": 2}, {\"mate\": 603.0, \"nem\": 702.0, \"calculo\": 593, \"pi_pred\": 3}, {\"mate\": 678.0, \"nem\": 661.0, \"calculo\": 752, \"pi_pred\": 2}, {\"mate\": 701.0, \"nem\": 580.0, \"calculo\": 790, \"pi_pred\": 2}, {\"mate\": 774.0, \"nem\": 641.0, \"calculo\": 690, \"pi_pred\": 2}, {\"mate\": 634.0, \"nem\": 723.0, \"calculo\": 579, \"pi_pred\": 3}, {\"mate\": 678.0, \"nem\": 805.0, \"calculo\": 740, \"pi_pred\": 2}, {\"mate\": 737.0, \"nem\": 517.0, \"calculo\": 655, \"pi_pred\": 2}, {\"mate\": 701.0, \"nem\": 826.0, \"calculo\": 719, \"pi_pred\": 2}, {\"mate\": 682.0, \"nem\": 661.0, \"calculo\": 650, \"pi_pred\": 2}, {\"mate\": 694.0, \"nem\": 703.0, \"calculo\": 688, \"pi_pred\": 2}, {\"mate\": 694.0, \"nem\": 702.0, \"calculo\": 724, \"pi_pred\": 2}, {\"mate\": 664.0, \"nem\": 661.0, \"calculo\": 700, \"pi_pred\": 2}, {\"mate\": 701.0, \"nem\": 620.0, \"calculo\": 652, \"pi_pred\": 2}, {\"mate\": 756.0, \"nem\": 764.0, \"calculo\": 788, \"pi_pred\": 2}, {\"mate\": 737.0, \"nem\": 682.0, \"calculo\": 676, \"pi_pred\": 2}, {\"mate\": 812.0, \"nem\": 620.0, \"calculo\": 690, \"pi_pred\": 2}, {\"mate\": 645.0, \"nem\": 641.0, \"calculo\": 588, \"pi_pred\": 3}, {\"mate\": 688.0, \"nem\": 764.0, \"calculo\": 698, \"pi_pred\": 2}, {\"mate\": 688.0, \"nem\": 579.0, \"calculo\": 766, \"pi_pred\": 2}, {\"mate\": 701.0, \"nem\": 702.0, \"calculo\": 641, \"pi_pred\": 2}, {\"mate\": 682.0, \"nem\": 641.0, \"calculo\": 705, \"pi_pred\": 2}, {\"mate\": 831.0, \"nem\": 744.0, \"calculo\": 774, \"pi_pred\": 2}, {\"mate\": 637.0, \"nem\": 682.0, \"calculo\": 610, \"pi_pred\": 3}, {\"mate\": 774.0, \"nem\": 744.0, \"calculo\": 688, \"pi_pred\": 2}, {\"mate\": 756.0, \"nem\": 620.0, \"calculo\": 850, \"pi_pred\": 2}, {\"mate\": 669.0, \"nem\": 558.0, \"calculo\": 681, \"pi_pred\": 2}, {\"mate\": 660.0, \"nem\": 538.0, \"calculo\": 645, \"pi_pred\": 2}, {\"mate\": 609.0, \"nem\": 744.0, \"calculo\": 633, \"pi_pred\": 2}, {\"mate\": 706.0, \"nem\": 723.0, \"calculo\": 695, \"pi_pred\": 2}, {\"mate\": 637.0, \"nem\": 661.0, \"calculo\": 586, \"pi_pred\": 3}, {\"mate\": 812.0, \"nem\": 558.0, \"calculo\": 804, \"pi_pred\": 2}, {\"mate\": 812.0, \"nem\": 744.0, \"calculo\": 828, \"pi_pred\": 1}, {\"mate\": 737.0, \"nem\": 764.0, \"calculo\": 690, \"pi_pred\": 2}, {\"mate\": 637.0, \"nem\": 744.0, \"calculo\": 572, \"pi_pred\": 3}, {\"mate\": 673.0, \"nem\": 661.0, \"calculo\": 555, \"pi_pred\": 3}, {\"mate\": 682.0, \"nem\": 744.0, \"calculo\": 674, \"pi_pred\": 2}, {\"mate\": 688.0, \"nem\": 744.0, \"calculo\": 721, \"pi_pred\": 2}, {\"mate\": 660.0, \"nem\": 641.0, \"calculo\": 629, \"pi_pred\": 2}, {\"mate\": 756.0, \"nem\": 579.0, \"calculo\": 669, \"pi_pred\": 2}, {\"mate\": 701.0, \"nem\": 661.0, \"calculo\": 747, \"pi_pred\": 2}, {\"mate\": 756.0, \"nem\": 620.0, \"calculo\": 731, \"pi_pred\": 2}, {\"mate\": 701.0, \"nem\": 682.0, \"calculo\": 681, \"pi_pred\": 2}, {\"mate\": 850.0, \"nem\": 661.0, \"calculo\": 802, \"pi_pred\": 2}, {\"mate\": 737.0, \"nem\": 579.0, \"calculo\": 574, \"pi_pred\": 3}, {\"mate\": 706.0, \"nem\": 682.0, \"calculo\": 683, \"pi_pred\": 2}, {\"mate\": 637.0, \"nem\": 599.0, \"calculo\": 605, \"pi_pred\": 3}, {\"mate\": 793.0, \"nem\": 682.0, \"calculo\": 667, \"pi_pred\": 2}, {\"mate\": 652.0, \"nem\": 764.0, \"calculo\": 576, \"pi_pred\": 3}, {\"mate\": 718.0, \"nem\": 661.0, \"calculo\": 750, \"pi_pred\": 2}, {\"mate\": 756.0, \"nem\": 661.0, \"calculo\": 747, \"pi_pred\": 2}, {\"mate\": 850.0, \"nem\": 723.0, \"calculo\": 802, \"pi_pred\": 2}, {\"mate\": 673.0, \"nem\": 579.0, \"calculo\": 652, \"pi_pred\": 2}, {\"mate\": 737.0, \"nem\": 723.0, \"calculo\": 804, \"pi_pred\": 2}, {\"mate\": 737.0, \"nem\": 620.0, \"calculo\": 826, \"pi_pred\": 2}, {\"mate\": 634.0, \"nem\": 661.0, \"calculo\": 593, \"pi_pred\": 3}, {\"mate\": 812.0, \"nem\": 744.0, \"calculo\": 736, \"pi_pred\": 2}, {\"mate\": 812.0, \"nem\": 785.0, \"calculo\": 804, \"pi_pred\": 2}, {\"mate\": 694.0, \"nem\": 620.0, \"calculo\": 610, \"pi_pred\": 3}, {\"mate\": 718.0, \"nem\": 702.0, \"calculo\": 790, \"pi_pred\": 2}, {\"mate\": 694.0, \"nem\": 599.0, \"calculo\": 610, \"pi_pred\": 3}, {\"mate\": 694.0, \"nem\": 641.0, \"calculo\": 705, \"pi_pred\": 2}, {\"mate\": 688.0, \"nem\": 538.0, \"calculo\": 690, \"pi_pred\": 2}, {\"mate\": 812.0, \"nem\": 517.0, \"calculo\": 778, \"pi_pred\": 2}, {\"mate\": 682.0, \"nem\": 661.0, \"calculo\": 778, \"pi_pred\": 2}, {\"mate\": 673.0, \"nem\": 641.0, \"calculo\": 674, \"pi_pred\": 2}, {\"mate\": 656.0, \"nem\": 599.0, \"calculo\": 648, \"pi_pred\": 2}, {\"mate\": 652.0, \"nem\": 702.0, \"calculo\": 671, \"pi_pred\": 2}, {\"mate\": 774.0, \"nem\": 641.0, \"calculo\": 709, \"pi_pred\": 2}, {\"mate\": 756.0, \"nem\": 723.0, \"calculo\": 693, \"pi_pred\": 2}, {\"mate\": 756.0, \"nem\": 702.0, \"calculo\": 802, \"pi_pred\": 2}, {\"mate\": 627.0, \"nem\": 661.0, \"calculo\": 574, \"pi_pred\": 3}, {\"mate\": 678.0, \"nem\": 641.0, \"calculo\": 622, \"pi_pred\": 2}, {\"mate\": 718.0, \"nem\": 558.0, \"calculo\": 555, \"pi_pred\": 3}, {\"mate\": 678.0, \"nem\": 579.0, \"calculo\": 645, \"pi_pred\": 2}, {\"mate\": 678.0, \"nem\": 682.0, \"calculo\": 714, \"pi_pred\": 2}, {\"mate\": 774.0, \"nem\": 682.0, \"calculo\": 764, \"pi_pred\": 2}, {\"mate\": 756.0, \"nem\": 764.0, \"calculo\": 695, \"pi_pred\": 2}, {\"mate\": 688.0, \"nem\": 641.0, \"calculo\": 574, \"pi_pred\": 3}, {\"mate\": 774.0, \"nem\": 538.0, \"calculo\": 681, \"pi_pred\": 2}, {\"mate\": 812.0, \"nem\": 517.0, \"calculo\": 724, \"pi_pred\": 2}, {\"mate\": 718.0, \"nem\": 620.0, \"calculo\": 712, \"pi_pred\": 2}, {\"mate\": 673.0, \"nem\": 744.0, \"calculo\": 652, \"pi_pred\": 2}, {\"mate\": 673.0, \"nem\": 702.0, \"calculo\": 712, \"pi_pred\": 2}, {\"mate\": 652.0, \"nem\": 661.0, \"calculo\": 624, \"pi_pred\": 2}, {\"mate\": 600.0, \"nem\": 723.0, \"calculo\": 593, \"pi_pred\": 3}, {\"mate\": 652.0, \"nem\": 661.0, \"calculo\": 702, \"pi_pred\": 2}, {\"mate\": 609.0, \"nem\": 579.0, \"calculo\": 562, \"pi_pred\": 3}, {\"mate\": 774.0, \"nem\": 785.0, \"calculo\": 783, \"pi_pred\": 2}, {\"mate\": 756.0, \"nem\": 661.0, \"calculo\": 724, \"pi_pred\": 2}, {\"mate\": 637.0, \"nem\": 744.0, \"calculo\": 648, \"pi_pred\": 2}, {\"mate\": 669.0, \"nem\": 723.0, \"calculo\": 614, \"pi_pred\": 3}, {\"mate\": 774.0, \"nem\": 558.0, \"calculo\": 757, \"pi_pred\": 2}, {\"mate\": 706.0, \"nem\": 579.0, \"calculo\": 579, \"pi_pred\": 3}, {\"mate\": 688.0, \"nem\": 682.0, \"calculo\": 700, \"pi_pred\": 2}, {\"mate\": 701.0, \"nem\": 744.0, \"calculo\": 671, \"pi_pred\": 2}, {\"mate\": 706.0, \"nem\": 764.0, \"calculo\": 686, \"pi_pred\": 2}, {\"mate\": 656.0, \"nem\": 723.0, \"calculo\": 726, \"pi_pred\": 2}, {\"mate\": 694.0, \"nem\": 682.0, \"calculo\": 693, \"pi_pred\": 2}, {\"mate\": 718.0, \"nem\": 661.0, \"calculo\": 702, \"pi_pred\": 2}, {\"mate\": 718.0, \"nem\": 620.0, \"calculo\": 688, \"pi_pred\": 2}, {\"mate\": 774.0, \"nem\": 620.0, \"calculo\": 804, \"pi_pred\": 2}, {\"mate\": 688.0, \"nem\": 661.0, \"calculo\": 738, \"pi_pred\": 2}, {\"mate\": 756.0, \"nem\": 744.0, \"calculo\": 728, \"pi_pred\": 2}, {\"mate\": 812.0, \"nem\": 496.0, \"calculo\": 747, \"pi_pred\": 2}, {\"mate\": 706.0, \"nem\": 620.0, \"calculo\": 717, \"pi_pred\": 2}, {\"mate\": 737.0, \"nem\": 599.0, \"calculo\": 643, \"pi_pred\": 2}, {\"mate\": 718.0, \"nem\": 579.0, \"calculo\": 721, \"pi_pred\": 2}, {\"mate\": 706.0, \"nem\": 599.0, \"calculo\": 648, \"pi_pred\": 2}, {\"mate\": 694.0, \"nem\": 641.0, \"calculo\": 669, \"pi_pred\": 2}, {\"mate\": 664.0, \"nem\": 599.0, \"calculo\": 674, \"pi_pred\": 2}, {\"mate\": 688.0, \"nem\": 702.0, \"calculo\": 736, \"pi_pred\": 2}, {\"mate\": 812.0, \"nem\": 599.0, \"calculo\": 757, \"pi_pred\": 2}, {\"mate\": 694.0, \"nem\": 682.0, \"calculo\": 686, \"pi_pred\": 2}, {\"mate\": 669.0, \"nem\": 620.0, \"calculo\": 610, \"pi_pred\": 3}, {\"mate\": 701.0, \"nem\": 744.0, \"calculo\": 724, \"pi_pred\": 2}, {\"mate\": 694.0, \"nem\": 702.0, \"calculo\": 733, \"pi_pred\": 2}, {\"mate\": 694.0, \"nem\": 682.0, \"calculo\": 693, \"pi_pred\": 2}, {\"mate\": 688.0, \"nem\": 723.0, \"calculo\": 731, \"pi_pred\": 2}, {\"mate\": 682.0, \"nem\": 682.0, \"calculo\": 707, \"pi_pred\": 2}, {\"mate\": 648.0, \"nem\": 620.0, \"calculo\": 643, \"pi_pred\": 2}, {\"mate\": 664.0, \"nem\": 702.0, \"calculo\": 624, \"pi_pred\": 2}, {\"mate\": 678.0, \"nem\": 702.0, \"calculo\": 707, \"pi_pred\": 2}, {\"mate\": 613.0, \"nem\": 661.0, \"calculo\": 619, \"pi_pred\": 2}, {\"mate\": 694.0, \"nem\": 599.0, \"calculo\": 690, \"pi_pred\": 2}, {\"mate\": 637.0, \"nem\": 641.0, \"calculo\": 584, \"pi_pred\": 3}, {\"mate\": 694.0, \"nem\": 599.0, \"calculo\": 638, \"pi_pred\": 2}, {\"mate\": 678.0, \"nem\": 538.0, \"calculo\": 671, \"pi_pred\": 2}, {\"mate\": 694.0, \"nem\": 702.0, \"calculo\": 655, \"pi_pred\": 2}, {\"mate\": 652.0, \"nem\": 620.0, \"calculo\": 671, \"pi_pred\": 2}, {\"mate\": 718.0, \"nem\": 661.0, \"calculo\": 738, \"pi_pred\": 2}, {\"mate\": 688.0, \"nem\": 599.0, \"calculo\": 740, \"pi_pred\": 2}, {\"mate\": 640.0, \"nem\": 744.0, \"calculo\": 645, \"pi_pred\": 2}, {\"mate\": 737.0, \"nem\": 661.0, \"calculo\": 664, \"pi_pred\": 2}, {\"mate\": 673.0, \"nem\": 661.0, \"calculo\": 586, \"pi_pred\": 3}, {\"mate\": 701.0, \"nem\": 641.0, \"calculo\": 683, \"pi_pred\": 2}, {\"mate\": 652.0, \"nem\": 703.0, \"calculo\": 681, \"pi_pred\": 2}, {\"mate\": 688.0, \"nem\": 579.0, \"calculo\": 690, \"pi_pred\": 2}, {\"mate\": 737.0, \"nem\": 702.0, \"calculo\": 759, \"pi_pred\": 2}, {\"mate\": 831.0, \"nem\": 661.0, \"calculo\": 740, \"pi_pred\": 2}, {\"mate\": 664.0, \"nem\": 538.0, \"calculo\": 565, \"pi_pred\": 3}, {\"mate\": 850.0, \"nem\": 682.0, \"calculo\": 764, \"pi_pred\": 2}, {\"mate\": 737.0, \"nem\": 661.0, \"calculo\": 790, \"pi_pred\": 2}, {\"mate\": 694.0, \"nem\": 661.0, \"calculo\": 631, \"pi_pred\": 2}, {\"mate\": 774.0, \"nem\": 579.0, \"calculo\": 785, \"pi_pred\": 2}, {\"mate\": 718.0, \"nem\": 620.0, \"calculo\": 774, \"pi_pred\": 2}, {\"mate\": 660.0, \"nem\": 641.0, \"calculo\": 591, \"pi_pred\": 3}, {\"mate\": 756.0, \"nem\": 661.0, \"calculo\": 714, \"pi_pred\": 2}, {\"mate\": 609.0, \"nem\": 538.0, \"calculo\": 657, \"pi_pred\": 2}, {\"mate\": 718.0, \"nem\": 661.0, \"calculo\": 759, \"pi_pred\": 2}, {\"mate\": 774.0, \"nem\": 620.0, \"calculo\": 724, \"pi_pred\": 2}, {\"mate\": 701.0, \"nem\": 702.0, \"calculo\": 714, \"pi_pred\": 2}, {\"mate\": 620.0, \"nem\": 661.0, \"calculo\": 702, \"pi_pred\": 2}, {\"mate\": 737.0, \"nem\": 641.0, \"calculo\": 709, \"pi_pred\": 2}, {\"mate\": 812.0, \"nem\": 558.0, \"calculo\": 752, \"pi_pred\": 2}, {\"mate\": 660.0, \"nem\": 723.0, \"calculo\": 721, \"pi_pred\": 2}, {\"mate\": 660.0, \"nem\": 538.0, \"calculo\": 655, \"pi_pred\": 2}, {\"mate\": 737.0, \"nem\": 538.0, \"calculo\": 671, \"pi_pred\": 2}, {\"mate\": 694.0, \"nem\": 641.0, \"calculo\": 624, \"pi_pred\": 2}, {\"mate\": 664.0, \"nem\": 620.0, \"calculo\": 600, \"pi_pred\": 3}, {\"mate\": 645.0, \"nem\": 599.0, \"calculo\": 633, \"pi_pred\": 2}, {\"mate\": 660.0, \"nem\": 620.0, \"calculo\": 676, \"pi_pred\": 2}, {\"mate\": 756.0, \"nem\": 641.0, \"calculo\": 826, \"pi_pred\": 2}, {\"mate\": 652.0, \"nem\": 764.0, \"calculo\": 681, \"pi_pred\": 2}, {\"mate\": 718.0, \"nem\": 661.0, \"calculo\": 679, \"pi_pred\": 2}, {\"mate\": 718.0, \"nem\": 744.0, \"calculo\": 655, \"pi_pred\": 2}, {\"mate\": 718.0, \"nem\": 682.0, \"calculo\": 702, \"pi_pred\": 2}, {\"mate\": 706.0, \"nem\": 620.0, \"calculo\": 709, \"pi_pred\": 2}, {\"mate\": 645.0, \"nem\": 620.0, \"calculo\": 633, \"pi_pred\": 2}, {\"mate\": 580.0, \"nem\": 764.0, \"calculo\": 512, \"pi_pred\": 3}, {\"mate\": 756.0, \"nem\": 641.0, \"calculo\": 757, \"pi_pred\": 2}, {\"mate\": 673.0, \"nem\": 661.0, \"calculo\": 636, \"pi_pred\": 2}, {\"mate\": 718.0, \"nem\": 476.0, \"calculo\": 652, \"pi_pred\": 2}, {\"mate\": 737.0, \"nem\": 620.0, \"calculo\": 762, \"pi_pred\": 2}, {\"mate\": 678.0, \"nem\": 764.0, \"calculo\": 652, \"pi_pred\": 2}, {\"mate\": 737.0, \"nem\": 620.0, \"calculo\": 683, \"pi_pred\": 2}, {\"mate\": 701.0, \"nem\": 764.0, \"calculo\": 731, \"pi_pred\": 2}, {\"mate\": 706.0, \"nem\": 641.0, \"calculo\": 688, \"pi_pred\": 2}, {\"mate\": 756.0, \"nem\": 641.0, \"calculo\": 709, \"pi_pred\": 2}, {\"mate\": 678.0, \"nem\": 641.0, \"calculo\": 676, \"pi_pred\": 2}, {\"mate\": 737.0, \"nem\": 702.0, \"calculo\": 757, \"pi_pred\": 2}, {\"mate\": 718.0, \"nem\": 558.0, \"calculo\": 664, \"pi_pred\": 2}, {\"mate\": 756.0, \"nem\": 744.0, \"calculo\": 755, \"pi_pred\": 2}, {\"mate\": 630.0, \"nem\": 641.0, \"calculo\": 538, \"pi_pred\": 3}, {\"mate\": 694.0, \"nem\": 641.0, \"calculo\": 709, \"pi_pred\": 2}, {\"mate\": 701.0, \"nem\": 599.0, \"calculo\": 650, \"pi_pred\": 2}, {\"mate\": 656.0, \"nem\": 682.0, \"calculo\": 664, \"pi_pred\": 2}, {\"mate\": 627.0, \"nem\": 601.0, \"calculo\": 555, \"pi_pred\": 3}, {\"mate\": 706.0, \"nem\": 661.0, \"calculo\": 688, \"pi_pred\": 2}, {\"mate\": 634.0, \"nem\": 662.0, \"calculo\": 598, \"pi_pred\": 3}, {\"mate\": 737.0, \"nem\": 702.0, \"calculo\": 774, \"pi_pred\": 2}, {\"mate\": 737.0, \"nem\": 744.0, \"calculo\": 683, \"pi_pred\": 2}, {\"mate\": 701.0, \"nem\": 558.0, \"calculo\": 643, \"pi_pred\": 2}, {\"mate\": 656.0, \"nem\": 661.0, \"calculo\": 588, \"pi_pred\": 3}, {\"mate\": 737.0, \"nem\": 599.0, \"calculo\": 714, \"pi_pred\": 2}, {\"mate\": 682.0, \"nem\": 702.0, \"calculo\": 645, \"pi_pred\": 2}, {\"mate\": 756.0, \"nem\": 682.0, \"calculo\": 781, \"pi_pred\": 2}, {\"mate\": 673.0, \"nem\": 682.0, \"calculo\": 705, \"pi_pred\": 2}, {\"mate\": 718.0, \"nem\": 579.0, \"calculo\": 726, \"pi_pred\": 2}, {\"mate\": 688.0, \"nem\": 661.0, \"calculo\": 664, \"pi_pred\": 2}, {\"mate\": 774.0, \"nem\": 723.0, \"calculo\": 790, \"pi_pred\": 2}, {\"mate\": 718.0, \"nem\": 744.0, \"calculo\": 759, \"pi_pred\": 2}, {\"mate\": 634.0, \"nem\": 723.0, \"calculo\": 636, \"pi_pred\": 2}, {\"mate\": 756.0, \"nem\": 744.0, \"calculo\": 731, \"pi_pred\": 2}, {\"mate\": 718.0, \"nem\": 785.0, \"calculo\": 660, \"pi_pred\": 2}, {\"mate\": 737.0, \"nem\": 558.0, \"calculo\": 759, \"pi_pred\": 2}, {\"mate\": 706.0, \"nem\": 764.0, \"calculo\": 745, \"pi_pred\": 2}, {\"mate\": 718.0, \"nem\": 599.0, \"calculo\": 781, \"pi_pred\": 2}, {\"mate\": 648.0, \"nem\": 661.0, \"calculo\": 631, \"pi_pred\": 2}, {\"mate\": 756.0, \"nem\": 661.0, \"calculo\": 707, \"pi_pred\": 2}, {\"mate\": 774.0, \"nem\": 682.0, \"calculo\": 693, \"pi_pred\": 2}, {\"mate\": 694.0, \"nem\": 599.0, \"calculo\": 705, \"pi_pred\": 2}, {\"mate\": 701.0, \"nem\": 702.0, \"calculo\": 726, \"pi_pred\": 2}, {\"mate\": 664.0, \"nem\": 723.0, \"calculo\": 643, \"pi_pred\": 2}, {\"mate\": 756.0, \"nem\": 682.0, \"calculo\": 750, \"pi_pred\": 2}, {\"mate\": 616.0, \"nem\": 682.0, \"calculo\": 576, \"pi_pred\": 3}, {\"mate\": 678.0, \"nem\": 538.0, \"calculo\": 688, \"pi_pred\": 2}, {\"mate\": 688.0, \"nem\": 517.0, \"calculo\": 695, \"pi_pred\": 2}, {\"mate\": 613.0, \"nem\": 682.0, \"calculo\": 576, \"pi_pred\": 3}, {\"mate\": 694.0, \"nem\": 661.0, \"calculo\": 728, \"pi_pred\": 2}, {\"mate\": 701.0, \"nem\": 682.0, \"calculo\": 747, \"pi_pred\": 2}, {\"mate\": 624.0, \"nem\": 703.0, \"calculo\": 607, \"pi_pred\": 3}, {\"mate\": 706.0, \"nem\": 661.0, \"calculo\": 605, \"pi_pred\": 3}, {\"mate\": 669.0, \"nem\": 744.0, \"calculo\": 650, \"pi_pred\": 2}, {\"mate\": 678.0, \"nem\": 661.0, \"calculo\": 709, \"pi_pred\": 2}, {\"mate\": 656.0, \"nem\": 641.0, \"calculo\": 660, \"pi_pred\": 2}, {\"mate\": 718.0, \"nem\": 599.0, \"calculo\": 667, \"pi_pred\": 2}, {\"mate\": 669.0, \"nem\": 641.0, \"calculo\": 633, \"pi_pred\": 2}, {\"mate\": 645.0, \"nem\": 661.0, \"calculo\": 567, \"pi_pred\": 3}, {\"mate\": 669.0, \"nem\": 744.0, \"calculo\": 733, \"pi_pred\": 2}, {\"mate\": 718.0, \"nem\": 620.0, \"calculo\": 631, \"pi_pred\": 2}, {\"mate\": 682.0, \"nem\": 661.0, \"calculo\": 614, \"pi_pred\": 3}, {\"mate\": 774.0, \"nem\": 661.0, \"calculo\": 807, \"pi_pred\": 2}, {\"mate\": 694.0, \"nem\": 702.0, \"calculo\": 795, \"pi_pred\": 2}, {\"mate\": 678.0, \"nem\": 599.0, \"calculo\": 707, \"pi_pred\": 2}, {\"mate\": 664.0, \"nem\": 620.0, \"calculo\": 624, \"pi_pred\": 2}, {\"mate\": 737.0, \"nem\": 558.0, \"calculo\": 724, \"pi_pred\": 2}, {\"mate\": 737.0, \"nem\": 641.0, \"calculo\": 717, \"pi_pred\": 2}, {\"mate\": 669.0, \"nem\": 682.0, \"calculo\": 683, \"pi_pred\": 2}, {\"mate\": 624.0, \"nem\": 702.0, \"calculo\": 643, \"pi_pred\": 2}, {\"mate\": 812.0, \"nem\": 620.0, \"calculo\": 690, \"pi_pred\": 2}, {\"mate\": 669.0, \"nem\": 661.0, \"calculo\": 698, \"pi_pred\": 2}, {\"mate\": 688.0, \"nem\": 764.0, \"calculo\": 712, \"pi_pred\": 2}, {\"mate\": 656.0, \"nem\": 723.0, \"calculo\": 679, \"pi_pred\": 2}, {\"mate\": 831.0, \"nem\": 744.0, \"calculo\": 785, \"pi_pred\": 2}, {\"mate\": 718.0, \"nem\": 579.0, \"calculo\": 671, \"pi_pred\": 2}, {\"mate\": 682.0, \"nem\": 702.0, \"calculo\": 712, \"pi_pred\": 2}, {\"mate\": 648.0, \"nem\": 641.0, \"calculo\": 598, \"pi_pred\": 3}, {\"mate\": 737.0, \"nem\": 579.0, \"calculo\": 781, \"pi_pred\": 2}, {\"mate\": 812.0, \"nem\": 702.0, \"calculo\": 850, \"pi_pred\": 1}, {\"mate\": 737.0, \"nem\": 599.0, \"calculo\": 652, \"pi_pred\": 2}, {\"mate\": 718.0, \"nem\": 723.0, \"calculo\": 733, \"pi_pred\": 2}, {\"mate\": 645.0, \"nem\": 641.0, \"calculo\": 657, \"pi_pred\": 2}, {\"mate\": 718.0, \"nem\": 723.0, \"calculo\": 781, \"pi_pred\": 2}, {\"mate\": 793.0, \"nem\": 641.0, \"calculo\": 662, \"pi_pred\": 2}, {\"mate\": 645.0, \"nem\": 744.0, \"calculo\": 650, \"pi_pred\": 2}, {\"mate\": 706.0, \"nem\": 744.0, \"calculo\": 662, \"pi_pred\": 2}, {\"mate\": 694.0, \"nem\": 538.0, \"calculo\": 693, \"pi_pred\": 2}, {\"mate\": 682.0, \"nem\": 620.0, \"calculo\": 690, \"pi_pred\": 2}, {\"mate\": 688.0, \"nem\": 620.0, \"calculo\": 631, \"pi_pred\": 2}, {\"mate\": 737.0, \"nem\": 723.0, \"calculo\": 683, \"pi_pred\": 2}, {\"mate\": 688.0, \"nem\": 579.0, \"calculo\": 655, \"pi_pred\": 2}, {\"mate\": 640.0, \"nem\": 683.0, \"calculo\": 565, \"pi_pred\": 3}, {\"mate\": 774.0, \"nem\": 785.0, \"calculo\": 814, \"pi_pred\": 2}, {\"mate\": 673.0, \"nem\": 723.0, \"calculo\": 576, \"pi_pred\": 3}, {\"mate\": 640.0, \"nem\": 744.0, \"calculo\": 622, \"pi_pred\": 2}, {\"mate\": 718.0, \"nem\": 682.0, \"calculo\": 657, \"pi_pred\": 2}, {\"mate\": 645.0, \"nem\": 805.0, \"calculo\": 593, \"pi_pred\": 3}, {\"mate\": 701.0, \"nem\": 579.0, \"calculo\": 683, \"pi_pred\": 2}, {\"mate\": 682.0, \"nem\": 702.0, \"calculo\": 619, \"pi_pred\": 3}, {\"mate\": 664.0, \"nem\": 661.0, \"calculo\": 586, \"pi_pred\": 3}, {\"mate\": 718.0, \"nem\": 455.0, \"calculo\": 700, \"pi_pred\": 2}, {\"mate\": 701.0, \"nem\": 661.0, \"calculo\": 783, \"pi_pred\": 2}, {\"mate\": 648.0, \"nem\": 661.0, \"calculo\": 579, \"pi_pred\": 3}, {\"mate\": 673.0, \"nem\": 744.0, \"calculo\": 740, \"pi_pred\": 2}, {\"mate\": 688.0, \"nem\": 641.0, \"calculo\": 579, \"pi_pred\": 3}, {\"mate\": 660.0, \"nem\": 579.0, \"calculo\": 657, \"pi_pred\": 2}, {\"mate\": 664.0, \"nem\": 723.0, \"calculo\": 698, \"pi_pred\": 2}, {\"mate\": 774.0, \"nem\": 558.0, \"calculo\": 660, \"pi_pred\": 2}, {\"mate\": 678.0, \"nem\": 702.0, \"calculo\": 612, \"pi_pred\": 3}, {\"mate\": 637.0, \"nem\": 682.0, \"calculo\": 586, \"pi_pred\": 3}, {\"mate\": 688.0, \"nem\": 620.0, \"calculo\": 674, \"pi_pred\": 2}, {\"mate\": 774.0, \"nem\": 702.0, \"calculo\": 652, \"pi_pred\": 2}, {\"mate\": 682.0, \"nem\": 661.0, \"calculo\": 657, \"pi_pred\": 2}, {\"mate\": 737.0, \"nem\": 558.0, \"calculo\": 667, \"pi_pred\": 2}, {\"mate\": 694.0, \"nem\": 702.0, \"calculo\": 683, \"pi_pred\": 2}, {\"mate\": 660.0, \"nem\": 641.0, \"calculo\": 574, \"pi_pred\": 3}, {\"mate\": 673.0, \"nem\": 702.0, \"calculo\": 593, \"pi_pred\": 3}, {\"mate\": 656.0, \"nem\": 702.0, \"calculo\": 598, \"pi_pred\": 3}, {\"mate\": 756.0, \"nem\": 517.0, \"calculo\": 736, \"pi_pred\": 2}, {\"mate\": 603.0, \"nem\": 744.0, \"calculo\": 638, \"pi_pred\": 2}, {\"mate\": 812.0, \"nem\": 558.0, \"calculo\": 814, \"pi_pred\": 2}, {\"mate\": 694.0, \"nem\": 682.0, \"calculo\": 743, \"pi_pred\": 2}, {\"mate\": 701.0, \"nem\": 558.0, \"calculo\": 757, \"pi_pred\": 2}, {\"mate\": 688.0, \"nem\": 682.0, \"calculo\": 700, \"pi_pred\": 2}, {\"mate\": 640.0, \"nem\": 538.0, \"calculo\": 586, \"pi_pred\": 3}, {\"mate\": 756.0, \"nem\": 538.0, \"calculo\": 695, \"pi_pred\": 2}, {\"mate\": 774.0, \"nem\": 661.0, \"calculo\": 743, \"pi_pred\": 2}, {\"mate\": 694.0, \"nem\": 723.0, \"calculo\": 667, \"pi_pred\": 2}, {\"mate\": 664.0, \"nem\": 641.0, \"calculo\": 624, \"pi_pred\": 2}, {\"mate\": 701.0, \"nem\": 744.0, \"calculo\": 669, \"pi_pred\": 2}, {\"mate\": 718.0, \"nem\": 723.0, \"calculo\": 790, \"pi_pred\": 2}, {\"mate\": 600.0, \"nem\": 682.0, \"calculo\": 576, \"pi_pred\": 3}, {\"mate\": 688.0, \"nem\": 599.0, \"calculo\": 664, \"pi_pred\": 2}, {\"mate\": 678.0, \"nem\": 620.0, \"calculo\": 622, \"pi_pred\": 2}, {\"mate\": 774.0, \"nem\": 599.0, \"calculo\": 809, \"pi_pred\": 2}, {\"mate\": 669.0, \"nem\": 661.0, \"calculo\": 588, \"pi_pred\": 3}, {\"mate\": 701.0, \"nem\": 641.0, \"calculo\": 743, \"pi_pred\": 2}, {\"mate\": 694.0, \"nem\": 723.0, \"calculo\": 667, \"pi_pred\": 2}, {\"mate\": 706.0, \"nem\": 764.0, \"calculo\": 702, \"pi_pred\": 2}, {\"mate\": 648.0, \"nem\": 599.0, \"calculo\": 565, \"pi_pred\": 3}, {\"mate\": 737.0, \"nem\": 620.0, \"calculo\": 740, \"pi_pred\": 2}, {\"mate\": 660.0, \"nem\": 579.0, \"calculo\": 560, \"pi_pred\": 3}, {\"mate\": 682.0, \"nem\": 661.0, \"calculo\": 664, \"pi_pred\": 2}, {\"mate\": 678.0, \"nem\": 661.0, \"calculo\": 690, \"pi_pred\": 2}, {\"mate\": 673.0, \"nem\": 661.0, \"calculo\": 717, \"pi_pred\": 2}, {\"mate\": 521.0, \"nem\": 661.0, \"calculo\": 527, \"pi_pred\": 3}, {\"mate\": 688.0, \"nem\": 702.0, \"calculo\": 657, \"pi_pred\": 2}, {\"mate\": 737.0, \"nem\": 579.0, \"calculo\": 645, \"pi_pred\": 2}, {\"mate\": 590.0, \"nem\": 661.0, \"calculo\": 527, \"pi_pred\": 3}, {\"mate\": 737.0, \"nem\": 621.0, \"calculo\": 781, \"pi_pred\": 2}, {\"mate\": 737.0, \"nem\": 599.0, \"calculo\": 769, \"pi_pred\": 2}, {\"mate\": 664.0, \"nem\": 599.0, \"calculo\": 664, \"pi_pred\": 2}, {\"mate\": 737.0, \"nem\": 661.0, \"calculo\": 738, \"pi_pred\": 2}, {\"mate\": 688.0, \"nem\": 661.0, \"calculo\": 631, \"pi_pred\": 2}, {\"mate\": 678.0, \"nem\": 682.0, \"calculo\": 650, \"pi_pred\": 2}, {\"mate\": 682.0, \"nem\": 641.0, \"calculo\": 669, \"pi_pred\": 2}, {\"mate\": 701.0, \"nem\": 764.0, \"calculo\": 724, \"pi_pred\": 2}, {\"mate\": 774.0, \"nem\": 682.0, \"calculo\": 757, \"pi_pred\": 2}, {\"mate\": 688.0, \"nem\": 723.0, \"calculo\": 676, \"pi_pred\": 2}, {\"mate\": 630.0, \"nem\": 496.0, \"calculo\": 595, \"pi_pred\": 3}, {\"mate\": 701.0, \"nem\": 702.0, \"calculo\": 745, \"pi_pred\": 2}, {\"mate\": 694.0, \"nem\": 661.0, \"calculo\": 776, \"pi_pred\": 2}, {\"mate\": 831.0, \"nem\": 496.0, \"calculo\": 705, \"pi_pred\": 2}, {\"mate\": 637.0, \"nem\": 682.0, \"calculo\": 607, \"pi_pred\": 3}, {\"mate\": 694.0, \"nem\": 622.0, \"calculo\": 645, \"pi_pred\": 2}, {\"mate\": 737.0, \"nem\": 723.0, \"calculo\": 593, \"pi_pred\": 3}, {\"mate\": 688.0, \"nem\": 661.0, \"calculo\": 638, \"pi_pred\": 2}, {\"mate\": 630.0, \"nem\": 682.0, \"calculo\": 641, \"pi_pred\": 2}, {\"mate\": 678.0, \"nem\": 579.0, \"calculo\": 707, \"pi_pred\": 2}, {\"mate\": 660.0, \"nem\": 682.0, \"calculo\": 631, \"pi_pred\": 2}, {\"mate\": 812.0, \"nem\": 682.0, \"calculo\": 717, \"pi_pred\": 2}, {\"mate\": 694.0, \"nem\": 641.0, \"calculo\": 766, \"pi_pred\": 2}, {\"mate\": 718.0, \"nem\": 580.0, \"calculo\": 662, \"pi_pred\": 2}, {\"mate\": 774.0, \"nem\": 599.0, \"calculo\": 740, \"pi_pred\": 2}, {\"mate\": 706.0, \"nem\": 723.0, \"calculo\": 669, \"pi_pred\": 2}, {\"mate\": 688.0, \"nem\": 641.0, \"calculo\": 633, \"pi_pred\": 2}, {\"mate\": 682.0, \"nem\": 682.0, \"calculo\": 721, \"pi_pred\": 2}, {\"mate\": 634.0, \"nem\": 620.0, \"calculo\": 550, \"pi_pred\": 3}, {\"mate\": 737.0, \"nem\": 599.0, \"calculo\": 698, \"pi_pred\": 2}, {\"mate\": 701.0, \"nem\": 620.0, \"calculo\": 766, \"pi_pred\": 2}, {\"mate\": 656.0, \"nem\": 641.0, \"calculo\": 600, \"pi_pred\": 3}, {\"mate\": 682.0, \"nem\": 641.0, \"calculo\": 631, \"pi_pred\": 2}, {\"mate\": 812.0, \"nem\": 620.0, \"calculo\": 724, \"pi_pred\": 2}, {\"mate\": 656.0, \"nem\": 620.0, \"calculo\": 667, \"pi_pred\": 2}, {\"mate\": 673.0, \"nem\": 764.0, \"calculo\": 629, \"pi_pred\": 2}, {\"mate\": 774.0, \"nem\": 682.0, \"calculo\": 740, \"pi_pred\": 2}, {\"mate\": 652.0, \"nem\": 744.0, \"calculo\": 655, \"pi_pred\": 2}, {\"mate\": 682.0, \"nem\": 764.0, \"calculo\": 712, \"pi_pred\": 2}, {\"mate\": 718.0, \"nem\": 620.0, \"calculo\": 664, \"pi_pred\": 2}, {\"mate\": 737.0, \"nem\": 764.0, \"calculo\": 795, \"pi_pred\": 2}, {\"mate\": 774.0, \"nem\": 641.0, \"calculo\": 743, \"pi_pred\": 2}, {\"mate\": 701.0, \"nem\": 682.0, \"calculo\": 785, \"pi_pred\": 2}, {\"mate\": 669.0, \"nem\": 579.0, \"calculo\": 593, \"pi_pred\": 3}, {\"mate\": 774.0, \"nem\": 538.0, \"calculo\": 752, \"pi_pred\": 2}, {\"mate\": 756.0, \"nem\": 641.0, \"calculo\": 769, \"pi_pred\": 2}, {\"mate\": 645.0, \"nem\": 682.0, \"calculo\": 588, \"pi_pred\": 3}, {\"mate\": 774.0, \"nem\": 641.0, \"calculo\": 795, \"pi_pred\": 2}, {\"mate\": 701.0, \"nem\": 538.0, \"calculo\": 757, \"pi_pred\": 2}, {\"mate\": 850.0, \"nem\": 661.0, \"calculo\": 826, \"pi_pred\": 2}, {\"mate\": 669.0, \"nem\": 682.0, \"calculo\": 593, \"pi_pred\": 3}, {\"mate\": 590.0, \"nem\": 662.0, \"calculo\": 531, \"pi_pred\": 3}, {\"mate\": 756.0, \"nem\": 599.0, \"calculo\": 669, \"pi_pred\": 2}, {\"mate\": 774.0, \"nem\": 561.0, \"calculo\": 781, \"pi_pred\": 2}, {\"mate\": 694.0, \"nem\": 805.0, \"calculo\": 743, \"pi_pred\": 2}, {\"mate\": 737.0, \"nem\": 744.0, \"calculo\": 686, \"pi_pred\": 2}, {\"mate\": 682.0, \"nem\": 682.0, \"calculo\": 679, \"pi_pred\": 2}, {\"mate\": 718.0, \"nem\": 723.0, \"calculo\": 757, \"pi_pred\": 2}, {\"mate\": 609.0, \"nem\": 723.0, \"calculo\": 631, \"pi_pred\": 2}, {\"mate\": 706.0, \"nem\": 661.0, \"calculo\": 747, \"pi_pred\": 2}, {\"mate\": 648.0, \"nem\": 744.0, \"calculo\": 736, \"pi_pred\": 2}, {\"mate\": 613.0, \"nem\": 661.0, \"calculo\": 557, \"pi_pred\": 3}, {\"mate\": 718.0, \"nem\": 538.0, \"calculo\": 750, \"pi_pred\": 2}, {\"mate\": 774.0, \"nem\": 579.0, \"calculo\": 778, \"pi_pred\": 2}, {\"mate\": 682.0, \"nem\": 641.0, \"calculo\": 724, \"pi_pred\": 2}, {\"mate\": 673.0, \"nem\": 702.0, \"calculo\": 731, \"pi_pred\": 2}, {\"mate\": 648.0, \"nem\": 496.0, \"calculo\": 669, \"pi_pred\": 2}, {\"mate\": 718.0, \"nem\": 702.0, \"calculo\": 733, \"pi_pred\": 2}, {\"mate\": 694.0, \"nem\": 744.0, \"calculo\": 740, \"pi_pred\": 2}, {\"mate\": 718.0, \"nem\": 682.0, \"calculo\": 759, \"pi_pred\": 2}, {\"mate\": 756.0, \"nem\": 702.0, \"calculo\": 629, \"pi_pred\": 2}, {\"mate\": 812.0, \"nem\": 560.0, \"calculo\": 636, \"pi_pred\": 2}, {\"mate\": 660.0, \"nem\": 620.0, \"calculo\": 707, \"pi_pred\": 2}, {\"mate\": 812.0, \"nem\": 702.0, \"calculo\": 778, \"pi_pred\": 2}, {\"mate\": 706.0, \"nem\": 641.0, \"calculo\": 724, \"pi_pred\": 2}, {\"mate\": 718.0, \"nem\": 558.0, \"calculo\": 638, \"pi_pred\": 2}, {\"mate\": 656.0, \"nem\": 682.0, \"calculo\": 676, \"pi_pred\": 2}, {\"mate\": 627.0, \"nem\": 723.0, \"calculo\": 529, \"pi_pred\": 3}, {\"mate\": 664.0, \"nem\": 641.0, \"calculo\": 655, \"pi_pred\": 2}, {\"mate\": 660.0, \"nem\": 620.0, \"calculo\": 624, \"pi_pred\": 2}, {\"mate\": 648.0, \"nem\": 620.0, \"calculo\": 588, \"pi_pred\": 3}, {\"mate\": 706.0, \"nem\": 620.0, \"calculo\": 709, \"pi_pred\": 2}, {\"mate\": 637.0, \"nem\": 641.0, \"calculo\": 688, \"pi_pred\": 2}, {\"mate\": 756.0, \"nem\": 723.0, \"calculo\": 745, \"pi_pred\": 2}, {\"mate\": 694.0, \"nem\": 599.0, \"calculo\": 681, \"pi_pred\": 2}, {\"mate\": 774.0, \"nem\": 620.0, \"calculo\": 778, \"pi_pred\": 2}, {\"mate\": 737.0, \"nem\": 744.0, \"calculo\": 667, \"pi_pred\": 2}, {\"mate\": 634.0, \"nem\": 702.0, \"calculo\": 603, \"pi_pred\": 3}, {\"mate\": 648.0, \"nem\": 661.0, \"calculo\": 662, \"pi_pred\": 2}, {\"mate\": 756.0, \"nem\": 682.0, \"calculo\": 733, \"pi_pred\": 2}, {\"mate\": 678.0, \"nem\": 682.0, \"calculo\": 655, \"pi_pred\": 2}, {\"mate\": 678.0, \"nem\": 641.0, \"calculo\": 489, \"pi_pred\": 3}, {\"mate\": 756.0, \"nem\": 620.0, \"calculo\": 769, \"pi_pred\": 2}, {\"mate\": 673.0, \"nem\": 661.0, \"calculo\": 617, \"pi_pred\": 3}, {\"mate\": 688.0, \"nem\": 723.0, \"calculo\": 724, \"pi_pred\": 2}, {\"mate\": 682.0, \"nem\": 723.0, \"calculo\": 717, \"pi_pred\": 2}, {\"mate\": 812.0, \"nem\": 723.0, \"calculo\": 719, \"pi_pred\": 2}, {\"mate\": 737.0, \"nem\": 785.0, \"calculo\": 686, \"pi_pred\": 2}, {\"mate\": 656.0, \"nem\": 602.0, \"calculo\": 536, \"pi_pred\": 3}, {\"mate\": 718.0, \"nem\": 620.0, \"calculo\": 752, \"pi_pred\": 2}, {\"mate\": 718.0, \"nem\": 641.0, \"calculo\": 717, \"pi_pred\": 2}, {\"mate\": 737.0, \"nem\": 682.0, \"calculo\": 700, \"pi_pred\": 2}, {\"mate\": 737.0, \"nem\": 579.0, \"calculo\": 724, \"pi_pred\": 2}, {\"mate\": 694.0, \"nem\": 764.0, \"calculo\": 724, \"pi_pred\": 2}, {\"mate\": 812.0, \"nem\": 785.0, \"calculo\": 752, \"pi_pred\": 2}, {\"mate\": 718.0, \"nem\": 682.0, \"calculo\": 705, \"pi_pred\": 2}, {\"mate\": 718.0, \"nem\": 682.0, \"calculo\": 695, \"pi_pred\": 2}, {\"mate\": 624.0, \"nem\": 661.0, \"calculo\": 576, \"pi_pred\": 3}, {\"mate\": 774.0, \"nem\": 599.0, \"calculo\": 816, \"pi_pred\": 2}, {\"mate\": 682.0, \"nem\": 682.0, \"calculo\": 676, \"pi_pred\": 2}, {\"mate\": 627.0, \"nem\": 682.0, \"calculo\": 562, \"pi_pred\": 3}, {\"mate\": 718.0, \"nem\": 744.0, \"calculo\": 776, \"pi_pred\": 2}, {\"mate\": 737.0, \"nem\": 682.0, \"calculo\": 671, \"pi_pred\": 2}, {\"mate\": 756.0, \"nem\": 641.0, \"calculo\": 612, \"pi_pred\": 3}, {\"mate\": 831.0, \"nem\": 496.0, \"calculo\": 645, \"pi_pred\": 2}, {\"mate\": 706.0, \"nem\": 641.0, \"calculo\": 676, \"pi_pred\": 2}, {\"mate\": 673.0, \"nem\": 599.0, \"calculo\": 681, \"pi_pred\": 2}, {\"mate\": 812.0, \"nem\": 764.0, \"calculo\": 814, \"pi_pred\": 2}, {\"mate\": 673.0, \"nem\": 764.0, \"calculo\": 645, \"pi_pred\": 2}, {\"mate\": 637.0, \"nem\": 661.0, \"calculo\": 679, \"pi_pred\": 2}, {\"mate\": 718.0, \"nem\": 682.0, \"calculo\": 712, \"pi_pred\": 2}, {\"mate\": 701.0, \"nem\": 558.0, \"calculo\": 690, \"pi_pred\": 2}, {\"mate\": 694.0, \"nem\": 661.0, \"calculo\": 740, \"pi_pred\": 2}, {\"mate\": 706.0, \"nem\": 620.0, \"calculo\": 698, \"pi_pred\": 2}, {\"mate\": 737.0, \"nem\": 682.0, \"calculo\": 693, \"pi_pred\": 2}, {\"mate\": 673.0, \"nem\": 641.0, \"calculo\": 667, \"pi_pred\": 2}, {\"mate\": 706.0, \"nem\": 682.0, \"calculo\": 657, \"pi_pred\": 2}, {\"mate\": 737.0, \"nem\": 723.0, \"calculo\": 814, \"pi_pred\": 2}, {\"mate\": 737.0, \"nem\": 682.0, \"calculo\": 814, \"pi_pred\": 2}, {\"mate\": 718.0, \"nem\": 641.0, \"calculo\": 636, \"pi_pred\": 2}, {\"mate\": 694.0, \"nem\": 764.0, \"calculo\": 783, \"pi_pred\": 2}, {\"mate\": 682.0, \"nem\": 702.0, \"calculo\": 755, \"pi_pred\": 2}, {\"mate\": 701.0, \"nem\": 538.0, \"calculo\": 652, \"pi_pred\": 2}, {\"mate\": 678.0, \"nem\": 641.0, \"calculo\": 705, \"pi_pred\": 2}, {\"mate\": 673.0, \"nem\": 764.0, \"calculo\": 724, \"pi_pred\": 2}, {\"mate\": 682.0, \"nem\": 620.0, \"calculo\": 707, \"pi_pred\": 2}, {\"mate\": 673.0, \"nem\": 661.0, \"calculo\": 648, \"pi_pred\": 2}, {\"mate\": 637.0, \"nem\": 743.0, \"calculo\": 626, \"pi_pred\": 2}, {\"mate\": 669.0, \"nem\": 661.0, \"calculo\": 690, \"pi_pred\": 2}, {\"mate\": 756.0, \"nem\": 517.0, \"calculo\": 681, \"pi_pred\": 2}, {\"mate\": 682.0, \"nem\": 682.0, \"calculo\": 766, \"pi_pred\": 2}, {\"mate\": 682.0, \"nem\": 764.0, \"calculo\": 614, \"pi_pred\": 3}, {\"mate\": 737.0, \"nem\": 620.0, \"calculo\": 662, \"pi_pred\": 2}, {\"mate\": 620.0, \"nem\": 661.0, \"calculo\": 572, \"pi_pred\": 3}, {\"mate\": 688.0, \"nem\": 538.0, \"calculo\": 622, \"pi_pred\": 2}, {\"mate\": 694.0, \"nem\": 682.0, \"calculo\": 707, \"pi_pred\": 2}, {\"mate\": 590.0, \"nem\": 702.0, \"calculo\": 600, \"pi_pred\": 3}, {\"mate\": 694.0, \"nem\": 682.0, \"calculo\": 693, \"pi_pred\": 2}, {\"mate\": 593.0, \"nem\": 764.0, \"calculo\": 619, \"pi_pred\": 2}, {\"mate\": 737.0, \"nem\": 744.0, \"calculo\": 693, \"pi_pred\": 2}, {\"mate\": 640.0, \"nem\": 723.0, \"calculo\": 622, \"pi_pred\": 2}, {\"mate\": 648.0, \"nem\": 661.0, \"calculo\": 676, \"pi_pred\": 2}, {\"mate\": 694.0, \"nem\": 682.0, \"calculo\": 690, \"pi_pred\": 2}, {\"mate\": 718.0, \"nem\": 558.0, \"calculo\": 622, \"pi_pred\": 2}, {\"mate\": 774.0, \"nem\": 641.0, \"calculo\": 762, \"pi_pred\": 2}, {\"mate\": 706.0, \"nem\": 599.0, \"calculo\": 743, \"pi_pred\": 2}, {\"mate\": 737.0, \"nem\": 558.0, \"calculo\": 781, \"pi_pred\": 2}, {\"mate\": 694.0, \"nem\": 641.0, \"calculo\": 638, \"pi_pred\": 2}, {\"mate\": 812.0, \"nem\": 702.0, \"calculo\": 814, \"pi_pred\": 2}, {\"mate\": 645.0, \"nem\": 661.0, \"calculo\": 690, \"pi_pred\": 2}, {\"mate\": 737.0, \"nem\": 620.0, \"calculo\": 726, \"pi_pred\": 2}, {\"mate\": 737.0, \"nem\": 682.0, \"calculo\": 766, \"pi_pred\": 2}, {\"mate\": 669.0, \"nem\": 579.0, \"calculo\": 688, \"pi_pred\": 2}, {\"mate\": 756.0, \"nem\": 682.0, \"calculo\": 747, \"pi_pred\": 2}, {\"mate\": 701.0, \"nem\": 744.0, \"calculo\": 726, \"pi_pred\": 2}, {\"mate\": 688.0, \"nem\": 517.0, \"calculo\": 660, \"pi_pred\": 2}, {\"mate\": 737.0, \"nem\": 764.0, \"calculo\": 774, \"pi_pred\": 2}, {\"mate\": 673.0, \"nem\": 682.0, \"calculo\": 695, \"pi_pred\": 2}, {\"mate\": 701.0, \"nem\": 579.0, \"calculo\": 712, \"pi_pred\": 2}, {\"mate\": 812.0, \"nem\": 723.0, \"calculo\": 790, \"pi_pred\": 2}, {\"mate\": 756.0, \"nem\": 641.0, \"calculo\": 717, \"pi_pred\": 2}, {\"mate\": 648.0, \"nem\": 599.0, \"calculo\": 660, \"pi_pred\": 2}, {\"mate\": 737.0, \"nem\": 641.0, \"calculo\": 686, \"pi_pred\": 2}, {\"mate\": 737.0, \"nem\": 661.0, \"calculo\": 707, \"pi_pred\": 2}, {\"mate\": 648.0, \"nem\": 682.0, \"calculo\": 569, \"pi_pred\": 3}, {\"mate\": 634.0, \"nem\": 599.0, \"calculo\": 550, \"pi_pred\": 3}, {\"mate\": 694.0, \"nem\": 682.0, \"calculo\": 674, \"pi_pred\": 2}, {\"mate\": 694.0, \"nem\": 785.0, \"calculo\": 743, \"pi_pred\": 2}, {\"mate\": 640.0, \"nem\": 702.0, \"calculo\": 562, \"pi_pred\": 3}, {\"mate\": 669.0, \"nem\": 661.0, \"calculo\": 698, \"pi_pred\": 2}, {\"mate\": 603.0, \"nem\": 805.0, \"calculo\": 605, \"pi_pred\": 3}, {\"mate\": 660.0, \"nem\": 620.0, \"calculo\": 669, \"pi_pred\": 2}, {\"mate\": 774.0, \"nem\": 538.0, \"calculo\": 686, \"pi_pred\": 2}, {\"mate\": 706.0, \"nem\": 723.0, \"calculo\": 719, \"pi_pred\": 2}, {\"mate\": 678.0, \"nem\": 661.0, \"calculo\": 605, \"pi_pred\": 3}, {\"mate\": 718.0, \"nem\": 641.0, \"calculo\": 624, \"pi_pred\": 2}, {\"mate\": 637.0, \"nem\": 661.0, \"calculo\": 690, \"pi_pred\": 2}, {\"mate\": 706.0, \"nem\": 702.0, \"calculo\": 731, \"pi_pred\": 2}, {\"mate\": 737.0, \"nem\": 641.0, \"calculo\": 766, \"pi_pred\": 2}, {\"mate\": 669.0, \"nem\": 661.0, \"calculo\": 638, \"pi_pred\": 2}, {\"mate\": 673.0, \"nem\": 599.0, \"calculo\": 622, \"pi_pred\": 2}, {\"mate\": 682.0, \"nem\": 620.0, \"calculo\": 709, \"pi_pred\": 2}, {\"mate\": 673.0, \"nem\": 641.0, \"calculo\": 633, \"pi_pred\": 2}, {\"mate\": 756.0, \"nem\": 682.0, \"calculo\": 804, \"pi_pred\": 2}, {\"mate\": 660.0, \"nem\": 682.0, \"calculo\": 626, \"pi_pred\": 2}, {\"mate\": 669.0, \"nem\": 599.0, \"calculo\": 598, \"pi_pred\": 3}, {\"mate\": 630.0, \"nem\": 579.0, \"calculo\": 617, \"pi_pred\": 2}, {\"mate\": 850.0, \"nem\": 744.0, \"calculo\": 790, \"pi_pred\": 2}, {\"mate\": 850.0, \"nem\": 826.0, \"calculo\": 802, \"pi_pred\": 1}, {\"mate\": 645.0, \"nem\": 579.0, \"calculo\": 603, \"pi_pred\": 3}, {\"mate\": 774.0, \"nem\": 785.0, \"calculo\": 790, \"pi_pred\": 2}, {\"mate\": 634.0, \"nem\": 661.0, \"calculo\": 624, \"pi_pred\": 2}, {\"mate\": 812.0, \"nem\": 496.0, \"calculo\": 838, \"pi_pred\": 2}, {\"mate\": 652.0, \"nem\": 620.0, \"calculo\": 671, \"pi_pred\": 2}, {\"mate\": 673.0, \"nem\": 641.0, \"calculo\": 650, \"pi_pred\": 2}, {\"mate\": 756.0, \"nem\": 702.0, \"calculo\": 712, \"pi_pred\": 2}, {\"mate\": 718.0, \"nem\": 661.0, \"calculo\": 686, \"pi_pred\": 2}, {\"mate\": 682.0, \"nem\": 662.0, \"calculo\": 603, \"pi_pred\": 3}, {\"mate\": 688.0, \"nem\": 620.0, \"calculo\": 681, \"pi_pred\": 2}, {\"mate\": 694.0, \"nem\": 723.0, \"calculo\": 657, \"pi_pred\": 2}, {\"mate\": 669.0, \"nem\": 661.0, \"calculo\": 671, \"pi_pred\": 2}, {\"mate\": 718.0, \"nem\": 641.0, \"calculo\": 671, \"pi_pred\": 2}, {\"mate\": 737.0, \"nem\": 744.0, \"calculo\": 790, \"pi_pred\": 2}, {\"mate\": 737.0, \"nem\": 599.0, \"calculo\": 759, \"pi_pred\": 2}, {\"mate\": 756.0, \"nem\": 579.0, \"calculo\": 683, \"pi_pred\": 2}, {\"mate\": 669.0, \"nem\": 661.0, \"calculo\": 755, \"pi_pred\": 2}, {\"mate\": 596.0, \"nem\": 661.0, \"calculo\": 512, \"pi_pred\": 3}, {\"mate\": 634.0, \"nem\": 661.0, \"calculo\": 617, \"pi_pred\": 3}, {\"mate\": 774.0, \"nem\": 805.0, \"calculo\": 807, \"pi_pred\": 2}, {\"mate\": 634.0, \"nem\": 579.0, \"calculo\": 567, \"pi_pred\": 3}, {\"mate\": 645.0, \"nem\": 723.0, \"calculo\": 674, \"pi_pred\": 2}, {\"mate\": 737.0, \"nem\": 538.0, \"calculo\": 698, \"pi_pred\": 2}, {\"mate\": 682.0, \"nem\": 538.0, \"calculo\": 641, \"pi_pred\": 2}, {\"mate\": 737.0, \"nem\": 702.0, \"calculo\": 695, \"pi_pred\": 2}, {\"mate\": 656.0, \"nem\": 579.0, \"calculo\": 588, \"pi_pred\": 3}, {\"mate\": 756.0, \"nem\": 620.0, \"calculo\": 690, \"pi_pred\": 2}, {\"mate\": 637.0, \"nem\": 764.0, \"calculo\": 586, \"pi_pred\": 3}, {\"mate\": 718.0, \"nem\": 661.0, \"calculo\": 676, \"pi_pred\": 2}, {\"mate\": 678.0, \"nem\": 641.0, \"calculo\": 626, \"pi_pred\": 2}, {\"mate\": 706.0, \"nem\": 599.0, \"calculo\": 622, \"pi_pred\": 2}, {\"mate\": 682.0, \"nem\": 538.0, \"calculo\": 641, \"pi_pred\": 2}, {\"mate\": 701.0, \"nem\": 620.0, \"calculo\": 707, \"pi_pred\": 2}, {\"mate\": 673.0, \"nem\": 661.0, \"calculo\": 648, \"pi_pred\": 2}, {\"mate\": 616.0, \"nem\": 661.0, \"calculo\": 522, \"pi_pred\": 3}, {\"mate\": 774.0, \"nem\": 702.0, \"calculo\": 755, \"pi_pred\": 2}, {\"mate\": 706.0, \"nem\": 682.0, \"calculo\": 755, \"pi_pred\": 2}, {\"mate\": 660.0, \"nem\": 702.0, \"calculo\": 650, \"pi_pred\": 2}, {\"mate\": 688.0, \"nem\": 579.0, \"calculo\": 679, \"pi_pred\": 2}, {\"mate\": 812.0, \"nem\": 641.0, \"calculo\": 752, \"pi_pred\": 2}]}}, {\"mode\": \"vega-lite\"});\n",
       "</script>"
      ],
      "text/plain": [
       "alt.Chart(...)"
      ]
     },
     "execution_count": 146,
     "metadata": {},
     "output_type": "execute_result"
    }
   ],
   "source": [
    "alt.Chart(test).mark_circle(size=60).encode(\n",
    "           alt.X('mate:Q',\n",
    "               scale=alt.Scale(zero=False)\n",
    "           ),\n",
    "           alt.Y('nem:Q',\n",
    "               scale=alt.Scale(zero=False)\n",
    "           ),\n",
    "           color=alt.Color('pi_pred:O', scale=alt.Scale(scheme='dark2')),\n",
    "           tooltip=['mate', 'nem', 'calculo', 'pi_pred']\n",
    "           ).interactive()"
   ]
  },
  {
   "cell_type": "markdown",
   "id": "27b07f45-f874-4cbd-ba5a-3324c5287b60",
   "metadata": {},
   "source": [
    "En base al diagrama de dispersión parece haber una relación del tipo \"mejores notas mejor resultado en la prueba de diagnostico\", pero no hay una separación clara entre los grupos."
   ]
  },
  {
   "cell_type": "markdown",
   "id": "891726bc-2e63-4ac8-8f15-ed12628d1679",
   "metadata": {},
   "source": [
    "### 4.3\n",
    "Un estudiante que ingresó por ingresos especiales tiene los siguientes puntajes\n",
    "$$X = (615, 5.3, 600)$$\n",
    "\n",
    "¿En qué categoría lo ubicaría usted?"
   ]
  },
  {
   "cell_type": "markdown",
   "id": "91a04346-c674-4128-ba5b-2bffe6ccc87c",
   "metadata": {},
   "source": [
    "Notemos que una nota final en la media de 5.3 equivale a 470.3 de nem (fuente: [demre](https://demre.cl/proceso-admision/factores-seleccion/notas-ensenanza-media))"
   ]
  },
  {
   "cell_type": "code",
   "execution_count": 148,
   "id": "8e88e25e-b406-4db3-b0a6-e19bf7b97e48",
   "metadata": {},
   "outputs": [
    {
     "data": {
      "text/plain": [
       "array([3], dtype=int64)"
      ]
     },
     "execution_count": 148,
     "metadata": {},
     "output_type": "execute_result"
    }
   ],
   "source": [
    "clf.predict([[615, 470.3, 600]])"
   ]
  },
  {
   "cell_type": "markdown",
   "id": "1eac4dcd-5dda-4c5e-acbf-5e49c9359d40",
   "metadata": {},
   "source": [
    "En la categoria de los estudiantes $<620$"
   ]
  }
 ],
 "metadata": {
  "kernelspec": {
   "display_name": "Python 3",
   "language": "python",
   "name": "python3"
  },
  "language_info": {
   "codemirror_mode": {
    "name": "ipython",
    "version": 3
   },
   "file_extension": ".py",
   "mimetype": "text/x-python",
   "name": "python",
   "nbconvert_exporter": "python",
   "pygments_lexer": "ipython3",
   "version": "3.9.1"
  }
 },
 "nbformat": 4,
 "nbformat_minor": 5
}
