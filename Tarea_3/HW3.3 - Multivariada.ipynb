{
 "cells": [
  {
   "cell_type": "markdown",
   "metadata": {},
   "source": [
    "Problema 3 [30 puntos]. La amitriptina es recetada por algunos médicos como un antidepresivo. Existen algunos efectos secundarios de esta droga como: pulsaciones cardiacas irregulares, presión arterial anormal, entre otras. Un conjunto de datos de 17 pacientes a los cuales se les administró esta droga fue recolectado en un estudio. Las variables respuestas fueron las siguientes:\n",
    "\n",
    "* $Y_{1}=$ Nivel de plasma Total \n",
    "* $Y_{2}=$ Cantidad de amitriptina presente en el plasma Se midieron cinco variables prediuctoras \n",
    "* $Z_{1}=$ Género $(1$ Female, 0 Male) (GEN) \n",
    "* $Z_{2}=$ Cantidad de antidepresivo ingerido (AMT) \n",
    "* $Z_{3}=$ Medición de la onda cardiaca (PR) \n",
    "* $Z_{4}=$ Presión diastólica (DIAP) \n",
    "* $Z_{5}=$ Medida de onda cardiaca (QRS)\n",
    "\n",
    "a) Escriba un modelo de regresión con respuesta multivariada para abordar este problema."
   ]
  },
  {
   "cell_type": "code",
   "execution_count": 1,
   "metadata": {},
   "outputs": [],
   "source": [
    "#importamos las librerias \n",
    "\n",
    "import numpy as np\n",
    "from sklearn.linear_model import LinearRegression"
   ]
  },
  {
   "cell_type": "code",
   "execution_count": 2,
   "metadata": {},
   "outputs": [],
   "source": [
    "#ingresamos los datos\n",
    "\n",
    "y_1 = np.array([3389, 1101, 1131, 596, 896, 1767, 807, 1111, 645, 628, 1360, 652, 860, 500, 781, 1070, 1754])\n",
    "y_2 = np.array([3149, 653, 810, 448, 844, 1450, 493, 941, 547, 392, 1283, 458, 722, 384, 501, 405, 1520])\n",
    "\n",
    "z_1 = np.array([1 ,1 ,0 ,1 ,1 ,1 ,1 ,0 ,1 ,1 ,1 ,1 ,1 ,0 ,0 ,0 ,1])\n",
    "z_2 = np.array([7500, 1975, 3600, 675, 750, 2500, 350, 1500, 375, 1050, 3000, 450, 1750, 2000, 4500, 1500, 3000])\n",
    "z_3 = np.array([220, 200, 205, 160, 185, 180, 154, 200, 137, 167, 180, 160, 135, 160, 180, 170, 180])\n",
    "z_4 = np.array([0,  0,  60,  60,  70,  60,  80,  70,  60,  60,  60,  64,  90,  60,  0,  90,  0])\n",
    "z_5 = np.array([140,  100,  111,  120,  83,  80,  98,  93,  105,  74,  80,  60,  79,  80,  100,  120,  129])"
   ]
  },
  {
   "cell_type": "code",
   "execution_count": 3,
   "metadata": {},
   "outputs": [],
   "source": [
    "#los arreglamos para usar sklearn\n",
    "\n",
    "X = np.array([z_1,z_2,z_3,z_4,z_5]).T\n",
    "\n",
    "y = np.array([y_1, y_2]).T"
   ]
  },
  {
   "cell_type": "code",
   "execution_count": 4,
   "metadata": {},
   "outputs": [
    {
     "data": {
      "text/plain": [
       "(17, 5)"
      ]
     },
     "execution_count": 4,
     "metadata": {},
     "output_type": "execute_result"
    }
   ],
   "source": [
    "X.shape"
   ]
  },
  {
   "cell_type": "code",
   "execution_count": 5,
   "metadata": {},
   "outputs": [
    {
     "data": {
      "text/plain": [
       "(17, 2)"
      ]
     },
     "execution_count": 5,
     "metadata": {},
     "output_type": "execute_result"
    }
   ],
   "source": [
    "y.shape"
   ]
  },
  {
   "cell_type": "code",
   "execution_count": 6,
   "metadata": {},
   "outputs": [],
   "source": [
    "#realizamos la regresión\n",
    "\n",
    "reg = LinearRegression().fit(X, y)"
   ]
  },
  {
   "cell_type": "code",
   "execution_count": 7,
   "metadata": {},
   "outputs": [
    {
     "data": {
      "text/plain": [
       "0.881745154243515"
      ]
     },
     "execution_count": 7,
     "metadata": {},
     "output_type": "execute_result"
    }
   ],
   "source": [
    "#coef R^2\n",
    "\n",
    "reg.score(X, y)"
   ]
  },
  {
   "cell_type": "code",
   "execution_count": 8,
   "metadata": {},
   "outputs": [
    {
     "data": {
      "text/plain": [
       "array([[6.75650781e+02, 2.84851063e-01, 1.02721328e+01, 7.25117136e+00,\n",
       "        7.59823965e+00],\n",
       "       [7.63029762e+02, 3.06373400e-01, 8.89619768e+00, 7.20555972e+00,\n",
       "        4.98705075e+00]])"
      ]
     },
     "execution_count": 8,
     "metadata": {},
     "output_type": "execute_result"
    }
   ],
   "source": [
    "# coeficientes de la regresión\n",
    "\n",
    "reg.coef_"
   ]
  },
  {
   "cell_type": "code",
   "execution_count": 9,
   "metadata": {},
   "outputs": [
    {
     "data": {
      "text/plain": [
       "array([-2879.47824607, -2728.70854444])"
      ]
     },
     "execution_count": 9,
     "metadata": {},
     "output_type": "execute_result"
    }
   ],
   "source": [
    "# intercepto de la regresión\n",
    "\n",
    "reg.intercept_"
   ]
  },
  {
   "cell_type": "markdown",
   "metadata": {},
   "source": [
    "b) Determine los estimadores de mínimos cuadrados, valores ajustados y residuos usando los valores de la tabla con las observaciones."
   ]
  },
  {
   "cell_type": "code",
   "execution_count": 10,
   "metadata": {},
   "outputs": [],
   "source": [
    "# generamos la matriz Z necesaria\n",
    "\n",
    "z_0 = np.ones(17)\n",
    "Z = np.array([z_0,z_1,z_2,z_3,z_4,z_5]).T"
   ]
  },
  {
   "cell_type": "code",
   "execution_count": 11,
   "metadata": {},
   "outputs": [
    {
     "data": {
      "text/plain": [
       "(17, 5)"
      ]
     },
     "execution_count": 11,
     "metadata": {},
     "output_type": "execute_result"
    }
   ],
   "source": [
    "Z.shape"
   ]
  },
  {
   "cell_type": "markdown",
   "metadata": {},
   "source": [
    "Usando \n",
    "$$\n",
    "\\begin{aligned}\n",
    "\\widehat{\\boldsymbol{\\beta}} &=\\left(\\boldsymbol{Z}^{\\top} \\boldsymbol{Z}\\right)^{-1} \\boldsymbol{Z}^{\\top} \\boldsymbol{Y} \\\\\n",
    "\\widehat{\\boldsymbol{\\Sigma}} &=\\frac{1}{n}(\\boldsymbol{Y}-\\boldsymbol{Z} \\widehat{\\boldsymbol{\\beta}})^{\\top}(\\boldsymbol{Y}-\\boldsymbol{Z} \\widehat{\\boldsymbol{\\beta}})\n",
    "\\end{aligned}\n",
    "$$\n",
    "\n",
    "Tenemos:"
   ]
  },
  {
   "cell_type": "code",
   "execution_count": 12,
   "metadata": {},
   "outputs": [
    {
     "data": {
      "text/plain": [
       "array([[ 4.55316678e+02,  5.54232370e+02],\n",
       "       [ 3.25402470e-01,  3.44801533e-01],\n",
       "       [-1.12386315e+00, -1.90310308e+00],\n",
       "       [ 1.38567934e+00,  1.64718531e+00],\n",
       "       [ 2.49205328e+00,  1.48224691e-01]])"
      ]
     },
     "execution_count": 12,
     "metadata": {},
     "output_type": "execute_result"
    }
   ],
   "source": [
    "b = np.linalg.inv(Z.T.dot(Z)).dot(Z.T).dot(y)\n",
    "b"
   ]
  },
  {
   "cell_type": "code",
   "execution_count": 13,
   "metadata": {},
   "outputs": [
    {
     "data": {
      "text/plain": [
       "array([[99522.15349997, 90853.62870014],\n",
       "       [90853.62870014, 98750.83764068]])"
      ]
     },
     "execution_count": 13,
     "metadata": {},
     "output_type": "execute_result"
    }
   ],
   "source": [
    "sigma = 1/17*(y-Z.dot(b)).T.dot((y-Z.dot(b)))\n",
    "sigma"
   ]
  },
  {
   "cell_type": "code",
   "execution_count": 14,
   "metadata": {},
   "outputs": [
    {
     "data": {
      "text/plain": [
       "array([[ 391.52722917,  406.68735413],\n",
       "       [ -21.41925474, -216.41724994],\n",
       "       [-169.81562146, -156.43344645],\n",
       "       [-281.33239519, -151.09499286],\n",
       "       [ 100.70817617,  255.63492964],\n",
       "       [ 417.96749076,  265.63325864],\n",
       "       [  55.79181412,  -35.13587618],\n",
       "       [ 518.91041589,  675.33044879],\n",
       "       [-123.17970736,    9.79746652],\n",
       "       [-248.85682869, -316.2555104 ],\n",
       "       [-151.73374435,  -73.76750787],\n",
       "       [  -8.13636006,  -61.20990774],\n",
       "       [-334.6328251 , -338.67256498],\n",
       "       [-253.49185917, -111.79566691],\n",
       "       [-730.22107707, -722.87081288],\n",
       "       [ 349.19549618,   45.29158342],\n",
       "       [ 203.29640526,  254.80060104]])"
      ]
     },
     "execution_count": 14,
     "metadata": {},
     "output_type": "execute_result"
    }
   ],
   "source": [
    "e = y-Z.dot(b)\n",
    "e"
   ]
  },
  {
   "cell_type": "markdown",
   "metadata": {},
   "source": [
    "c) Realice un análisis de residuos.\n",
    "\n",
    "¿Son normales los residuos?"
   ]
  },
  {
   "cell_type": "code",
   "execution_count": 15,
   "metadata": {},
   "outputs": [],
   "source": [
    "#usamos el codigo anterior\n",
    "\n",
    "def Mahananobis(x, mu, sigma):\n",
    "    '''Distancia de Mahananobis asumiento distribución normal multivariada N(mu, sigma)'''\n",
    "    z = x-mu\n",
    "    return float(z.dot(np.linalg.inv(sigma)).dot(z.T))\n",
    "\n",
    "from scipy.stats import chi2\n",
    "\n",
    "def chisplot(data):\n",
    "    ''' Similar al chisplot de R'''\n",
    "    X_bar = data.mean()\n",
    "    \n",
    "    S = np.zeros((data.shape[1],data.shape[1]))\n",
    "    for i in data.index:\n",
    "            S = S + np.array([data.loc[i]-X_bar]).T.dot(np.array([data.loc[i]-X_bar]))\n",
    "    S = 1/(data.shape[0]-1)*S\n",
    "    \n",
    "    d_2 = [Mahananobis(data.loc[i], X_bar, S) for i in data.index]\n",
    "    d_2.sort()\n",
    "    j_star = [1/data.shape[0]*(i+1-1/2) for i in range(data.shape[0])]\n",
    "    chi_sqrd = [chi2.ppf(i, data.shape[1]) for i in j_star]\n",
    "    \n",
    "    source = pd.DataFrame({'d_2':d_2,'chi_sqrd':chi_sqrd})\n",
    "    return  alt.Chart(source).mark_circle(size=60).encode(\n",
    "            x='d_2',\n",
    "            y='chi_sqrd',\n",
    "            )"
   ]
  },
  {
   "cell_type": "code",
   "execution_count": 16,
   "metadata": {},
   "outputs": [
    {
     "data": {
      "text/html": [
       "\n",
       "<div id=\"altair-viz-1e73b1657cbd4d9d9dc23c5f8aeba7c5\"></div>\n",
       "<script type=\"text/javascript\">\n",
       "  (function(spec, embedOpt){\n",
       "    let outputDiv = document.currentScript.previousElementSibling;\n",
       "    if (outputDiv.id !== \"altair-viz-1e73b1657cbd4d9d9dc23c5f8aeba7c5\") {\n",
       "      outputDiv = document.getElementById(\"altair-viz-1e73b1657cbd4d9d9dc23c5f8aeba7c5\");\n",
       "    }\n",
       "    const paths = {\n",
       "      \"vega\": \"https://cdn.jsdelivr.net/npm//vega@5?noext\",\n",
       "      \"vega-lib\": \"https://cdn.jsdelivr.net/npm//vega-lib?noext\",\n",
       "      \"vega-lite\": \"https://cdn.jsdelivr.net/npm//vega-lite@4.8.1?noext\",\n",
       "      \"vega-embed\": \"https://cdn.jsdelivr.net/npm//vega-embed@6?noext\",\n",
       "    };\n",
       "\n",
       "    function loadScript(lib) {\n",
       "      return new Promise(function(resolve, reject) {\n",
       "        var s = document.createElement('script');\n",
       "        s.src = paths[lib];\n",
       "        s.async = true;\n",
       "        s.onload = () => resolve(paths[lib]);\n",
       "        s.onerror = () => reject(`Error loading script: ${paths[lib]}`);\n",
       "        document.getElementsByTagName(\"head\")[0].appendChild(s);\n",
       "      });\n",
       "    }\n",
       "\n",
       "    function showError(err) {\n",
       "      outputDiv.innerHTML = `<div class=\"error\" style=\"color:red;\">${err}</div>`;\n",
       "      throw err;\n",
       "    }\n",
       "\n",
       "    function displayChart(vegaEmbed) {\n",
       "      vegaEmbed(outputDiv, spec, embedOpt)\n",
       "        .catch(err => showError(`Javascript Error: ${err.message}<br>This usually means there's a typo in your chart specification. See the javascript console for the full traceback.`));\n",
       "    }\n",
       "\n",
       "    if(typeof define === \"function\" && define.amd) {\n",
       "      requirejs.config({paths});\n",
       "      require([\"vega-embed\"], displayChart, err => showError(`Error loading script: ${err.message}`));\n",
       "    } else if (typeof vegaEmbed === \"function\") {\n",
       "      displayChart(vegaEmbed);\n",
       "    } else {\n",
       "      loadScript(\"vega\")\n",
       "        .then(() => loadScript(\"vega-lite\"))\n",
       "        .then(() => loadScript(\"vega-embed\"))\n",
       "        .catch(showError)\n",
       "        .then(() => displayChart(vegaEmbed));\n",
       "    }\n",
       "  })({\"config\": {\"view\": {\"continuousWidth\": 400, \"continuousHeight\": 300}}, \"data\": {\"name\": \"data-b6e005f4a2ef20535805f48ab770d504\"}, \"mark\": {\"type\": \"circle\", \"size\": 60}, \"encoding\": {\"x\": {\"type\": \"quantitative\", \"field\": \"d_2\"}, \"y\": {\"type\": \"quantitative\", \"field\": \"chi_sqrd\"}}, \"$schema\": \"https://vega.github.io/schema/vega-lite/v4.8.1.json\", \"datasets\": {\"data-b6e005f4a2ef20535805f48ab770d504\": [{\"d_2\": 0.16917975681060615, \"chi_sqrd\": 0.059705926299362305}, {\"d_2\": 0.22212436726619475, \"chi_sqrd\": 0.1847466402620302}, {\"d_2\": 0.42669259144351546, \"chi_sqrd\": 0.3181293892593748}, {\"d_2\": 0.48490700330744096, \"chi_sqrd\": 0.4610473172236645}, {\"d_2\": 0.7495419945403177, \"chi_sqrd\": 0.614969399495921}, {\"d_2\": 0.9771484037185599, \"chi_sqrd\": 0.7817326173740234}, {\"d_2\": 1.005340423984351, \"chi_sqrd\": 0.9636761737854769}, {\"d_2\": 1.0214966849143443, \"chi_sqrd\": 1.163843090899442}, {\"d_2\": 1.3362408465628208, \"chi_sqrd\": 1.386294361119891}, {\"d_2\": 1.3911036895806594, \"chi_sqrd\": 1.6366206470279017}, {\"d_2\": 1.7293134105221255, \"chi_sqrd\": 1.92282233430925}, {\"d_2\": 1.7377617058145514, \"chi_sqrd\": 2.256930503635582}, {\"d_2\": 2.2936318107512648, \"chi_sqrd\": 2.6582718945598836}, {\"d_2\": 2.5839906415004883, \"chi_sqrd\": 3.1609007511216958}, {\"d_2\": 5.012070871828732, \"chi_sqrd\": 3.8338452243641217}, {\"d_2\": 5.156753470413637, \"chi_sqrd\": 4.855496471896103}, {\"d_2\": 5.702702327040391, \"chi_sqrd\": 7.052721049232323}]}}, {\"mode\": \"vega-lite\"});\n",
       "</script>"
      ],
      "text/plain": [
       "alt.Chart(...)"
      ]
     },
     "execution_count": 16,
     "metadata": {},
     "output_type": "execute_result"
    }
   ],
   "source": [
    "import pandas as pd\n",
    "import altair as alt\n",
    "\n",
    "chisplot(pd.DataFrame(e))"
   ]
  },
  {
   "cell_type": "markdown",
   "metadata": {},
   "source": [
    "Podemos concluir que los residuos son normales"
   ]
  },
  {
   "cell_type": "markdown",
   "metadata": {},
   "source": [
    "d) Construya una región de confianza del $95 \\%$ para ambas variables respuestas para $z_{1}=1, z_{2}=1200, z_{3}=140, z_{4}=70$ y $z_{5}=85$"
   ]
  },
  {
   "cell_type": "code",
   "execution_count": 18,
   "metadata": {},
   "outputs": [
    {
     "name": "stdout",
     "output_type": "stream",
     "text": [
      "[ 542.7484036435694 1451.8133636739292 ]\n",
      "[ 374.9293682804384 1283.994328310798 ]\n"
     ]
    }
   ],
   "source": [
    "from scipy.stats import f \n",
    "\n",
    "Z = np.array([z_1,z_2,z_3,z_4,z_5]).T\n",
    "z_0 = np.array([1,1200,140,70,85]).T\n",
    "m = 2\n",
    "n = 17\n",
    "r = 5\n",
    "b_1 = b[:,0]\n",
    "b_2 = b[:,1]\n",
    "\n",
    "region = (m*(n-r-1)/(n-r-m)*f.isf(0.05, m,n-r-m))**0.5*(z_0.T.dot(np.linalg.inv(Z.T.dot(Z))).dot(z_0)*n/(n-r-1)*sigma[0,0])**0.5\n",
    "\n",
    "for i in range(2):\n",
    "    print('[',z_0.T.dot(b[:,i])-region, z_0.T.dot(b[:,i])+region,']')\n"
   ]
  }
 ],
 "metadata": {
  "kernelspec": {
   "display_name": "Python 3",
   "language": "python",
   "name": "python3"
  },
  "language_info": {
   "codemirror_mode": {
    "name": "ipython",
    "version": 3
   },
   "file_extension": ".py",
   "mimetype": "text/x-python",
   "name": "python",
   "nbconvert_exporter": "python",
   "pygments_lexer": "ipython3",
   "version": "3.8.3"
  }
 },
 "nbformat": 4,
 "nbformat_minor": 4
}
