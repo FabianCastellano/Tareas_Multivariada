{
 "cells": [
  {
   "cell_type": "markdown",
   "metadata": {},
   "source": [
    "**Problema 3 [30 puntos]**. La amitriptina es recetada por algunos médicos como un antidepresivo. Existen algunos efectos secundarios de esta droga como: pulsaciones cardiacas irregulares, presión arterial anormal, entre otras. Un conjunto de datos de 17 pacientes a los cuales se les administró esta droga fue recolectado en un estudio. Las variables respuestas fueron las siguientes:\n",
    "\n",
    "* $Y_{1}=$ Nivel de plasma Total \n",
    "* $Y_{2}=$ Cantidad de amitriptina presente en el plasma Se midieron cinco variables prediuctoras \n",
    "* $Z_{1}=$ Género $(1$ Female, 0 Male) (GEN) \n",
    "* $Z_{2}=$ Cantidad de antidepresivo ingerido (AMT) \n",
    "* $Z_{3}=$ Medición de la onda cardiaca (PR) \n",
    "* $Z_{4}=$ Presión diastólica (DIAP) \n",
    "* $Z_{5}=$ Medida de onda cardiaca (QRS)\n",
    "\n",
    "a) Escriba un modelo de regresión con respuesta multivariada para abordar este problema."
   ]
  },
  {
   "cell_type": "code",
   "execution_count": 1,
   "metadata": {},
   "outputs": [],
   "source": [
    "#importamos las librerias \n",
    "\n",
    "import numpy as np\n",
    "from sklearn.linear_model import LinearRegression"
   ]
  },
  {
   "cell_type": "code",
   "execution_count": 2,
   "metadata": {},
   "outputs": [],
   "source": [
    "#ingresamos los datos\n",
    "\n",
    "y_1 = np.array([3389, 1101, 1131, 596, 896, 1767, 807, 1111, 645, 628, 1360, 652, 860, 500, 781, 1070, 1754])\n",
    "y_2 = np.array([3149, 653, 810, 448, 844, 1450, 493, 941, 547, 392, 1283, 458, 722, 384, 501, 405, 1520])\n",
    "\n",
    "z_1 = np.array([1 ,1 ,0 ,1 ,1 ,1 ,1 ,0 ,1 ,1 ,1 ,1 ,1 ,0 ,0 ,0 ,1])\n",
    "z_2 = np.array([7500, 1975, 3600, 675, 750, 2500, 350, 1500, 375, 1050, 3000, 450, 1750, 2000, 4500, 1500, 3000])\n",
    "z_3 = np.array([220, 200, 205, 160, 185, 180, 154, 200, 137, 167, 180, 160, 135, 160, 180, 170, 180])\n",
    "z_4 = np.array([0,  0,  60,  60,  70,  60,  80,  70,  60,  60,  60,  64,  90,  60,  0,  90,  0])\n",
    "z_5 = np.array([140,  100,  111,  120,  83,  80,  98,  93,  105,  74,  80,  60,  79,  80,  100,  120,  129])"
   ]
  },
  {
   "cell_type": "code",
   "execution_count": 3,
   "metadata": {},
   "outputs": [],
   "source": [
    "#los arreglamos para usar sklearn\n",
    "\n",
    "X = np.array([z_1,z_2,z_3,z_4,z_5]).T\n",
    "\n",
    "y = np.array([y_1, y_2]).T"
   ]
  },
  {
   "cell_type": "code",
   "execution_count": 4,
   "metadata": {},
   "outputs": [
    {
     "data": {
      "text/plain": [
       "(17, 5)"
      ]
     },
     "execution_count": 4,
     "metadata": {},
     "output_type": "execute_result"
    }
   ],
   "source": [
    "X.shape"
   ]
  },
  {
   "cell_type": "code",
   "execution_count": 5,
   "metadata": {},
   "outputs": [
    {
     "data": {
      "text/plain": [
       "(17, 2)"
      ]
     },
     "execution_count": 5,
     "metadata": {},
     "output_type": "execute_result"
    }
   ],
   "source": [
    "y.shape"
   ]
  },
  {
   "cell_type": "code",
   "execution_count": 6,
   "metadata": {},
   "outputs": [],
   "source": [
    "#realizamos la regresión\n",
    "\n",
    "reg = LinearRegression().fit(X, y)"
   ]
  },
  {
   "cell_type": "code",
   "execution_count": 7,
   "metadata": {},
   "outputs": [
    {
     "data": {
      "text/plain": [
       "0.881745154243515"
      ]
     },
     "execution_count": 7,
     "metadata": {},
     "output_type": "execute_result"
    }
   ],
   "source": [
    "#coef R^2\n",
    "\n",
    "reg.score(X, y)"
   ]
  },
  {
   "cell_type": "code",
   "execution_count": 8,
   "metadata": {},
   "outputs": [
    {
     "data": {
      "text/plain": [
       "array([[6.75650781e+02, 2.84851063e-01, 1.02721328e+01, 7.25117136e+00,\n",
       "        7.59823965e+00],\n",
       "       [7.63029762e+02, 3.06373400e-01, 8.89619768e+00, 7.20555972e+00,\n",
       "        4.98705075e+00]])"
      ]
     },
     "execution_count": 8,
     "metadata": {},
     "output_type": "execute_result"
    }
   ],
   "source": [
    "# coeficientes de la regresión\n",
    "\n",
    "reg.coef_"
   ]
  },
  {
   "cell_type": "code",
   "execution_count": 9,
   "metadata": {},
   "outputs": [
    {
     "data": {
      "text/plain": [
       "array([-2879.47824607, -2728.70854444])"
      ]
     },
     "execution_count": 9,
     "metadata": {},
     "output_type": "execute_result"
    }
   ],
   "source": [
    "# intercepto de la regresión\n",
    "\n",
    "reg.intercept_"
   ]
  },
  {
   "cell_type": "markdown",
   "metadata": {},
   "source": [
    "b) Determine los estimadores de mínimos cuadrados, valores ajustados y residuos usando los valores de la tabla con las observaciones."
   ]
  },
  {
   "cell_type": "code",
   "execution_count": 10,
   "metadata": {},
   "outputs": [],
   "source": [
    "# generamos la matriz Z necesaria\n",
    "\n",
    "z_0 = np.ones(17)\n",
    "Z = np.array([z_0,z_1,z_2,z_3,z_4,z_5]).T"
   ]
  },
  {
   "cell_type": "code",
   "execution_count": 11,
   "metadata": {},
   "outputs": [
    {
     "data": {
      "text/plain": [
       "array([[1.000e+00, 1.000e+00, 7.500e+03, 2.200e+02, 0.000e+00, 1.400e+02],\n",
       "       [1.000e+00, 1.000e+00, 1.975e+03, 2.000e+02, 0.000e+00, 1.000e+02],\n",
       "       [1.000e+00, 0.000e+00, 3.600e+03, 2.050e+02, 6.000e+01, 1.110e+02],\n",
       "       [1.000e+00, 1.000e+00, 6.750e+02, 1.600e+02, 6.000e+01, 1.200e+02],\n",
       "       [1.000e+00, 1.000e+00, 7.500e+02, 1.850e+02, 7.000e+01, 8.300e+01],\n",
       "       [1.000e+00, 1.000e+00, 2.500e+03, 1.800e+02, 6.000e+01, 8.000e+01],\n",
       "       [1.000e+00, 1.000e+00, 3.500e+02, 1.540e+02, 8.000e+01, 9.800e+01],\n",
       "       [1.000e+00, 0.000e+00, 1.500e+03, 2.000e+02, 7.000e+01, 9.300e+01],\n",
       "       [1.000e+00, 1.000e+00, 3.750e+02, 1.370e+02, 6.000e+01, 1.050e+02],\n",
       "       [1.000e+00, 1.000e+00, 1.050e+03, 1.670e+02, 6.000e+01, 7.400e+01],\n",
       "       [1.000e+00, 1.000e+00, 3.000e+03, 1.800e+02, 6.000e+01, 8.000e+01],\n",
       "       [1.000e+00, 1.000e+00, 4.500e+02, 1.600e+02, 6.400e+01, 6.000e+01],\n",
       "       [1.000e+00, 1.000e+00, 1.750e+03, 1.350e+02, 9.000e+01, 7.900e+01],\n",
       "       [1.000e+00, 0.000e+00, 2.000e+03, 1.600e+02, 6.000e+01, 8.000e+01],\n",
       "       [1.000e+00, 0.000e+00, 4.500e+03, 1.800e+02, 0.000e+00, 1.000e+02],\n",
       "       [1.000e+00, 0.000e+00, 1.500e+03, 1.700e+02, 9.000e+01, 1.200e+02],\n",
       "       [1.000e+00, 1.000e+00, 3.000e+03, 1.800e+02, 0.000e+00, 1.290e+02]])"
      ]
     },
     "execution_count": 11,
     "metadata": {},
     "output_type": "execute_result"
    }
   ],
   "source": [
    "Z"
   ]
  },
  {
   "cell_type": "markdown",
   "metadata": {},
   "source": [
    "Usando \n",
    "$$\n",
    "\\begin{aligned}\n",
    "\\widehat{\\boldsymbol{\\beta}} &=\\left(\\boldsymbol{Z}^{\\top} \\boldsymbol{Z}\\right)^{-1} \\boldsymbol{Z}^{\\top} \\boldsymbol{Y} \\\\\n",
    "\\widehat{\\boldsymbol{\\Sigma}} &=\\frac{1}{n}(\\boldsymbol{Y}-\\boldsymbol{Z} \\widehat{\\boldsymbol{\\beta}})^{\\top}(\\boldsymbol{Y}-\\boldsymbol{Z} \\widehat{\\boldsymbol{\\beta}})\n",
    "\\end{aligned}\n",
    "$$\n",
    "\n",
    "Tenemos:"
   ]
  },
  {
   "cell_type": "code",
   "execution_count": 12,
   "metadata": {},
   "outputs": [
    {
     "data": {
      "text/plain": [
       "array([[-2.87947825e+03, -2.72870854e+03],\n",
       "       [ 6.75650781e+02,  7.63029762e+02],\n",
       "       [ 2.84851063e-01,  3.06373400e-01],\n",
       "       [ 1.02721328e+01,  8.89619768e+00],\n",
       "       [ 7.25117136e+00,  7.20555972e+00],\n",
       "       [ 7.59823965e+00,  4.98705075e+00]])"
      ]
     },
     "execution_count": 12,
     "metadata": {},
     "output_type": "execute_result"
    }
   ],
   "source": [
    "b = np.linalg.inv(Z.T.dot(Z)).dot(Z.T).dot(y)\n",
    "b"
   ]
  },
  {
   "cell_type": "code",
   "execution_count": 13,
   "metadata": {},
   "outputs": [
    {
     "data": {
      "text/plain": [
       "array([[51176.95944034, 45039.79270646],\n",
       "       [45039.79270646, 55335.81761062]])"
      ]
     },
     "execution_count": 13,
     "metadata": {},
     "output_type": "execute_result"
    }
   ],
   "source": [
    "sigma = 1/17*(y-Z.dot(b)).T.dot((y-Z.dot(b)))\n",
    "sigma"
   ]
  },
  {
   "cell_type": "code",
   "execution_count": 14,
   "metadata": {},
   "outputs": [
    {
     "data": {
      "text/plain": [
       "array([[ 132.82172075,  161.52768596],\n",
       "       [ -72.00391573, -264.3532942 ],\n",
       "       [-399.24769362, -373.85243774],\n",
       "       [-382.84729526, -247.29456499],\n",
       "       [-152.39129236,   15.78776868],\n",
       "       [ 366.78644485,  217.13205622],\n",
       "       [   4.49994231,  -83.74210164],\n",
       "       [ 294.55680213,  462.72400744],\n",
       "       [ 101.84067355,  223.03576304],\n",
       "       [-180.05234962, -251.05363913],\n",
       "       [-182.63908644, -103.05464388],\n",
       "       [ 164.13388748,  102.04025643],\n",
       "       [ -74.26618155,  -91.93873884],\n",
       "       [ 123.30541339,  245.27247159],\n",
       "       [-230.15941146, -248.9924144 ],\n",
       "       [ 211.54488956,  -85.15162689],\n",
       "       [ 274.117452  ,  321.91345235]])"
      ]
     },
     "execution_count": 14,
     "metadata": {},
     "output_type": "execute_result"
    }
   ],
   "source": [
    "e = y-Z.dot(b)\n",
    "e"
   ]
  },
  {
   "cell_type": "markdown",
   "metadata": {},
   "source": [
    "c) Realice un análisis de residuos.\n",
    "\n",
    "¿Son normales los residuos?"
   ]
  },
  {
   "cell_type": "code",
   "execution_count": 15,
   "metadata": {},
   "outputs": [],
   "source": [
    "#usamos el codigo anterior\n",
    "\n",
    "def Mahananobis(x, mu, sigma):\n",
    "    '''Distancia de Mahananobis asumiento distribución normal multivariada N(mu, sigma)'''\n",
    "    z = x-mu\n",
    "    return float(z.dot(np.linalg.inv(sigma)).dot(z.T))\n",
    "\n",
    "from scipy.stats import chi2\n",
    "\n",
    "def chisplot(data):\n",
    "    ''' Similar al chisplot de R'''\n",
    "    X_bar = data.mean()\n",
    "    \n",
    "    S = np.zeros((data.shape[1],data.shape[1]))\n",
    "    for i in data.index:\n",
    "            S = S + np.array([data.loc[i]-X_bar]).T.dot(np.array([data.loc[i]-X_bar]))\n",
    "    S = 1/(data.shape[0]-1)*S\n",
    "    \n",
    "    d_2 = [Mahananobis(data.loc[i], X_bar, S) for i in data.index]\n",
    "    d_2.sort()\n",
    "    j_star = [1/data.shape[0]*(i+1-1/2) for i in range(data.shape[0])]\n",
    "    chi_sqrd = [chi2.ppf(i, data.shape[1]) for i in j_star]\n",
    "    \n",
    "    source = pd.DataFrame({'d_2':d_2,'chi_sqrd':chi_sqrd})\n",
    "    return  alt.Chart(source).mark_circle(size=60).encode(\n",
    "            x='d_2',\n",
    "            y='chi_sqrd',\n",
    "            )"
   ]
  },
  {
   "cell_type": "code",
   "execution_count": 16,
   "metadata": {},
   "outputs": [
    {
     "data": {
      "text/html": [
       "\n",
       "<div id=\"altair-viz-c612b1fbb64d43ce89501996b70d53c8\"></div>\n",
       "<script type=\"text/javascript\">\n",
       "  (function(spec, embedOpt){\n",
       "    let outputDiv = document.currentScript.previousElementSibling;\n",
       "    if (outputDiv.id !== \"altair-viz-c612b1fbb64d43ce89501996b70d53c8\") {\n",
       "      outputDiv = document.getElementById(\"altair-viz-c612b1fbb64d43ce89501996b70d53c8\");\n",
       "    }\n",
       "    const paths = {\n",
       "      \"vega\": \"https://cdn.jsdelivr.net/npm//vega@5?noext\",\n",
       "      \"vega-lib\": \"https://cdn.jsdelivr.net/npm//vega-lib?noext\",\n",
       "      \"vega-lite\": \"https://cdn.jsdelivr.net/npm//vega-lite@4.8.1?noext\",\n",
       "      \"vega-embed\": \"https://cdn.jsdelivr.net/npm//vega-embed@6?noext\",\n",
       "    };\n",
       "\n",
       "    function loadScript(lib) {\n",
       "      return new Promise(function(resolve, reject) {\n",
       "        var s = document.createElement('script');\n",
       "        s.src = paths[lib];\n",
       "        s.async = true;\n",
       "        s.onload = () => resolve(paths[lib]);\n",
       "        s.onerror = () => reject(`Error loading script: ${paths[lib]}`);\n",
       "        document.getElementsByTagName(\"head\")[0].appendChild(s);\n",
       "      });\n",
       "    }\n",
       "\n",
       "    function showError(err) {\n",
       "      outputDiv.innerHTML = `<div class=\"error\" style=\"color:red;\">${err}</div>`;\n",
       "      throw err;\n",
       "    }\n",
       "\n",
       "    function displayChart(vegaEmbed) {\n",
       "      vegaEmbed(outputDiv, spec, embedOpt)\n",
       "        .catch(err => showError(`Javascript Error: ${err.message}<br>This usually means there's a typo in your chart specification. See the javascript console for the full traceback.`));\n",
       "    }\n",
       "\n",
       "    if(typeof define === \"function\" && define.amd) {\n",
       "      requirejs.config({paths});\n",
       "      require([\"vega-embed\"], displayChart, err => showError(`Error loading script: ${err.message}`));\n",
       "    } else if (typeof vegaEmbed === \"function\") {\n",
       "      displayChart(vegaEmbed);\n",
       "    } else {\n",
       "      loadScript(\"vega\")\n",
       "        .then(() => loadScript(\"vega-lite\"))\n",
       "        .then(() => loadScript(\"vega-embed\"))\n",
       "        .catch(showError)\n",
       "        .then(() => displayChart(vegaEmbed));\n",
       "    }\n",
       "  })({\"config\": {\"view\": {\"continuousWidth\": 400, \"continuousHeight\": 300}}, \"data\": {\"name\": \"data-6b56ada4cda450dc01a97c4242f787aa\"}, \"mark\": {\"type\": \"circle\", \"size\": 60}, \"encoding\": {\"x\": {\"type\": \"quantitative\", \"field\": \"d_2\"}, \"y\": {\"type\": \"quantitative\", \"field\": \"chi_sqrd\"}}, \"$schema\": \"https://vega.github.io/schema/vega-lite/v4.8.1.json\", \"datasets\": {\"data-6b56ada4cda450dc01a97c4242f787aa\": [{\"d_2\": 0.14378863320920748, \"chi_sqrd\": 0.059705926299362305}, {\"d_2\": 0.4438886556281635, \"chi_sqrd\": 0.1847466402620302}, {\"d_2\": 0.4615533629738545, \"chi_sqrd\": 0.3181293892593748}, {\"d_2\": 0.6032866676261742, \"chi_sqrd\": 0.4610473172236645}, {\"d_2\": 0.8129523383613979, \"chi_sqrd\": 0.614969399495921}, {\"d_2\": 1.1034891716876727, \"chi_sqrd\": 0.7817326173740234}, {\"d_2\": 1.1102550226231924, \"chi_sqrd\": 0.9636761737854769}, {\"d_2\": 1.2578539096385906, \"chi_sqrd\": 1.163843090899442}, {\"d_2\": 1.4009307074080435, \"chi_sqrd\": 1.386294361119891}, {\"d_2\": 1.7720490688243236, \"chi_sqrd\": 1.6366206470279017}, {\"d_2\": 1.7744239492423461, \"chi_sqrd\": 1.92282233430925}, {\"d_2\": 2.51733455631263, \"chi_sqrd\": 2.256930503635582}, {\"d_2\": 2.9617499646321783, \"chi_sqrd\": 2.6582718945598836}, {\"d_2\": 3.1436248573430046, \"chi_sqrd\": 3.1609007511216958}, {\"d_2\": 3.1773518399766827, \"chi_sqrd\": 3.8338452243641217}, {\"d_2\": 4.078412434833943, \"chi_sqrd\": 4.855496471896103}, {\"d_2\": 5.237054859678584, \"chi_sqrd\": 7.052721049232323}]}}, {\"mode\": \"vega-lite\"});\n",
       "</script>"
      ],
      "text/plain": [
       "alt.Chart(...)"
      ]
     },
     "execution_count": 16,
     "metadata": {},
     "output_type": "execute_result"
    }
   ],
   "source": [
    "import pandas as pd\n",
    "import altair as alt\n",
    "\n",
    "chisplot(pd.DataFrame(e))"
   ]
  },
  {
   "cell_type": "markdown",
   "metadata": {},
   "source": [
    "Podemos concluir que los residuos son normales"
   ]
  },
  {
   "cell_type": "markdown",
   "metadata": {},
   "source": [
    "d) Construya una región de confianza del $95 \\%$ para ambas variables respuestas para $z_{1}=1, z_{2}=1200, z_{3}=140, z_{4}=70$ y $z_{5}=85$"
   ]
  },
  {
   "cell_type": "code",
   "execution_count": 17,
   "metadata": {},
   "outputs": [
    {
     "name": "stdout",
     "output_type": "stream",
     "text": [
      "[ -325.87514364807504 326.0117891320461 ]\n",
      "[ -326.0090170493541 325.87791573076703 ]\n"
     ]
    }
   ],
   "source": [
    "from scipy.stats import f \n",
    "\n",
    "Z = np.array([z_1,z_2,z_3,z_4,z_5]).T\n",
    "b = np.linalg.inv(Z.T.dot(Z)).dot(Z.T)\n",
    "z_0 = np.array([1,1200,140,70,85]).T\n",
    "\n",
    "m = 2\n",
    "n = 17\n",
    "r = 5\n",
    "\n",
    "region = (m*(n-r-1)/(n-r-m)*f.isf(0.05, m,n-r-m))**0.5*(z_0.T.dot(np.linalg.inv(Z.T.dot(Z))).dot(z_0)*n/(n-r-1)*sigma[0,0])**0.5\n",
    "\n",
    "for i in range(2):\n",
    "    print('[',z_0.T.dot(b[:,i])-region, z_0.T.dot(b[:,i])+region,']')\n"
   ]
  }
 ],
 "metadata": {
  "kernelspec": {
   "display_name": "Python 3",
   "language": "python",
   "name": "python3"
  },
  "language_info": {
   "codemirror_mode": {
    "name": "ipython",
    "version": 3
   },
   "file_extension": ".py",
   "mimetype": "text/x-python",
   "name": "python",
   "nbconvert_exporter": "python",
   "pygments_lexer": "ipython3",
   "version": "3.9.1"
  }
 },
 "nbformat": 4,
 "nbformat_minor": 4
}
